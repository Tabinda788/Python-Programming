{
  "nbformat": 4,
  "nbformat_minor": 0,
  "metadata": {
    "colab": {
      "name": "Practice.ipynb",
      "provenance": [],
      "collapsed_sections": []
    },
    "kernelspec": {
      "name": "python3",
      "display_name": "Python 3"
    },
    "language_info": {
      "name": "python"
    }
  },
  "cells": [
    {
      "cell_type": "markdown",
      "metadata": {
        "id": "V29a-AJDTkSx"
      },
      "source": [
        "<h1>HackerRank Problems Practice</H1>"
      ]
    },
    {
      "cell_type": "markdown",
      "metadata": {
        "id": "fgBYNk8xUI24"
      },
      "source": [
        "<H3> Finding The Percentage (Basic) </H3>"
      ]
    },
    {
      "cell_type": "code",
      "metadata": {
        "colab": {
          "base_uri": "https://localhost:8080/"
        },
        "id": "rP0ac4_fUHe0",
        "outputId": "f7f0d169-9591-421e-9fca-81603a8b33df"
      },
      "source": [
        "if __name__ == '__main__':\n",
        "    n = int(input())\n",
        "    student_marks = {}\n",
        "    for _ in range(n):\n",
        "        name, *line = input().split()\n",
        "        scores = list(map(float, line))\n",
        "        student_marks[name] = scores\n",
        "    query_name = input()\n",
        "    a,b,c = student_marks[query_name]\n",
        "    print('%.2f'%((a+b+c)/3))\n",
        "    # query_scores = student_marks[query_name]\n",
        "    # sum = 0\n",
        "    # for i in query_scores:\n",
        "    #   sum += i\n",
        "    # print(sum)\n",
        "    "
      ],
      "execution_count": 13,
      "outputs": [
        {
          "output_type": "stream",
          "name": "stdout",
          "text": [
            "3\n",
            "Krishna 67 68 69\n",
            "Arjun 70 98 63\n",
            "Malika 52 56 60\n",
            "Malika\n",
            "56.00\n"
          ]
        }
      ]
    },
    {
      "cell_type": "markdown",
      "metadata": {
        "id": "yPwyAFnJaQEe"
      },
      "source": [
        "<H3>Validating UID (Basic)</H3>"
      ]
    },
    {
      "cell_type": "code",
      "metadata": {
        "colab": {
          "base_uri": "https://localhost:8080/"
        },
        "id": "nGD0zJjFaPjl",
        "outputId": "541c53b2-43f9-4bc7-a9a1-c0e283ffe54a"
      },
      "source": [
        "import re\n",
        "# the assert statement is used to continue the execute if the given condition evaluates to True. \n",
        "# If the assert condition evaluates to False, \n",
        "# then it raises the AssertionError exception with the specified error message. \n",
        "for _ in range(int(input())):\n",
        "    u = ''.join(sorted(input()))\n",
        "    try:\n",
        "        assert re.search(r'[A-Z]{2}', u)\n",
        "        assert re.search(r'\\d\\d\\d', u)\n",
        "        assert not re.search(r'[^a-zA-Z0-9]', u)\n",
        "        assert not re.search(r'(.)\\1', u)\n",
        "        assert len(u) == 10\n",
        "    except:\n",
        "        print('Invalid')\n",
        "    else:\n",
        "        print('Valid')"
      ],
      "execution_count": 14,
      "outputs": [
        {
          "output_type": "stream",
          "name": "stdout",
          "text": [
            "2\n",
            "B1CD102354\n",
            "Invalid\n",
            "B1CDEF2354\n",
            "Valid\n"
          ]
        }
      ]
    },
    {
      "cell_type": "markdown",
      "metadata": {
        "id": "N9XBQQB-hJdn"
      },
      "source": [
        "<H3>LISTS (Basic)</H3>"
      ]
    },
    {
      "cell_type": "code",
      "metadata": {
        "colab": {
          "base_uri": "https://localhost:8080/"
        },
        "id": "O1hhGkQihFX3",
        "outputId": "8b56713f-59a8-41b8-be34-686832ef39e6"
      },
      "source": [
        "N = int(input())\n",
        "lis= list()\n",
        "for _ in range(N):\n",
        "    s=input().strip().split(\" \")\n",
        "    if s[0]==\"insert\":\n",
        "        lis.insert(int(s[1]),int(s[2]))\n",
        "    if s[0]==\"print\":\n",
        "        print(lis)\n",
        "    if s[0]==\"remove\":\n",
        "        lis.remove(int(s[1]))\n",
        "    if s[0]==\"append\":\n",
        "        lis.append(int(s[1]))\n",
        "    if s[0]==\"sort\":\n",
        "        lis.sort()\n",
        "    if s[0]==\"pop\":\n",
        "        lis.pop()\n",
        "    if s[0]==\"reverse\":\n",
        "        lis.reverse()\n",
        "    # print(lis)\n"
      ],
      "execution_count": 21,
      "outputs": [
        {
          "output_type": "stream",
          "name": "stdout",
          "text": [
            "12\n",
            "insert 0 5\n",
            "[5]\n",
            "insert 1 10\n",
            "[5, 10]\n",
            "insert 0 6\n",
            "[6, 5, 10]\n",
            "print\n",
            "[6, 5, 10]\n",
            "[6, 5, 10]\n",
            "remove 6\n",
            "[5, 10]\n",
            "append 9\n",
            "[5, 10, 9]\n",
            "append 1\n",
            "[5, 10, 9, 1]\n",
            "sort\n",
            "[1, 5, 9, 10]\n",
            "print\n",
            "[1, 5, 9, 10]\n",
            "[1, 5, 9, 10]\n",
            "pop\n",
            "[1, 5, 9]\n",
            "reverse\n",
            "[9, 5, 1]\n",
            "print\n",
            "[9, 5, 1]\n",
            "[9, 5, 1]\n"
          ]
        }
      ]
    },
    {
      "cell_type": "markdown",
      "metadata": {
        "id": "dNWfDyArqP8y"
      },
      "source": [
        "<H3> String Formatting (Basic) </H3>"
      ]
    },
    {
      "cell_type": "code",
      "metadata": {
        "colab": {
          "base_uri": "https://localhost:8080/"
        },
        "id": "viSGcDWqqPi6",
        "outputId": "054bab37-f498-46a0-f6d3-ae052c82d8db"
      },
      "source": [
        "n = int(input().strip())\n",
        "# print(len(str(bin(n))[2:]))\n",
        "w = len(str(bin(n))[2:])\n",
        "for i in range(1,n+1,1):\n",
        "    o = str(oct(i))[2:]\n",
        "    h = str(hex(i))[2:]\n",
        "    h = h.upper()\n",
        "    b = str(bin(i))[2:]\n",
        "    d = str(i)\n",
        "    print('{:>{width}} {:>{width}} {:>{width}} {:>{width}}'.format(d,o,h,b,width=w))"
      ],
      "execution_count": 112,
      "outputs": [
        {
          "output_type": "stream",
          "name": "stdout",
          "text": [
            "5\n",
            "  1   1   1   1\n",
            "  2   2   2  10\n",
            "  3   3   3  11\n",
            "  4   4   4 100\n",
            "  5   5   5 101\n"
          ]
        }
      ]
    },
    {
      "cell_type": "markdown",
      "metadata": {
        "id": "UryXz4lLovOb"
      },
      "source": [
        "<H3>Mutations (Basic)</H3>"
      ]
    },
    {
      "cell_type": "code",
      "metadata": {
        "colab": {
          "base_uri": "https://localhost:8080/"
        },
        "id": "Wwvg2IYDoug3",
        "outputId": "42afb067-df4f-4957-fd68-8be498d38ca7"
      },
      "source": [
        "def mutate_string(string, position, character):\n",
        "    chars = list(string)\n",
        "    # print(chars)\n",
        "    chars[position] = character\n",
        "    # print(chars)\n",
        "    return \"\".join(chars)\n",
        "\n",
        "\n",
        "if __name__ == '__main__':\n",
        "    s = input()\n",
        "    i, c = input().split()\n",
        "    # print(i)\n",
        "    s_new = mutate_string(s, int(i), c)\n",
        "    print(s_new)"
      ],
      "execution_count": 100,
      "outputs": [
        {
          "output_type": "stream",
          "name": "stdout",
          "text": [
            "tabinda \n",
            "2 3\n",
            "ta3inda \n"
          ]
        }
      ]
    },
    {
      "cell_type": "markdown",
      "metadata": {
        "id": "aADwfLGajKmC"
      },
      "source": [
        "<H3>Merge the tools</H3>"
      ]
    },
    {
      "cell_type": "code",
      "metadata": {
        "colab": {
          "base_uri": "https://localhost:8080/"
        },
        "id": "w8xCv8F0jEjL",
        "outputId": "8c54b27f-5c96-4a02-8a40-b778b81eacbc"
      },
      "source": [
        "from collections import OrderedDict\n",
        "\n",
        "def merge_the_tools(string, k):\n",
        "    for i in range(0, len(string)-k+1, k):\n",
        "        # print(i)\n",
        "        # print(string[i:i + k])\n",
        "        print(''.join(OrderedDict.fromkeys(string[i:i + k])))\n",
        "\n",
        "if __name__ == '__main__':\n",
        "    string, k = input(), int(input())\n",
        "    merge_the_tools(string, k)\n"
      ],
      "execution_count": 91,
      "outputs": [
        {
          "output_type": "stream",
          "name": "stdout",
          "text": [
            "tabindahilal \n",
            "4\n",
            "tabi\n",
            "ndah\n",
            "ila\n"
          ]
        }
      ]
    },
    {
      "cell_type": "code",
      "metadata": {
        "colab": {
          "base_uri": "https://localhost:8080/"
        },
        "id": "2iU41kuflMFU",
        "outputId": "e1768050-9063-424c-8f6d-6643be642683"
      },
      "source": [
        "4# vowels keys\n",
        "from collections import OrderedDict\n",
        "od = OrderedDict()\n",
        "od['a'] = 'vowel'\n",
        "od['e'] = 'vowel'\n",
        "od['i'] = 'vowel'\n",
        "od['o'] = 'vowel'\n",
        "od['u'] = 'vowel'\n",
        "# keys = {'a', 'e', 'i', 'o', 'u' }\n",
        "# value = 'vowel'\n",
        "\n",
        "vowels = od.fromkeys(keys, value)\n",
        "print(vowels)"
      ],
      "execution_count": 90,
      "outputs": [
        {
          "output_type": "stream",
          "name": "stdout",
          "text": [
            "OrderedDict([('o', 'vowel'), ('i', 'vowel'), ('a', 'vowel'), ('e', 'vowel'), ('u', 'vowel')])\n"
          ]
        }
      ]
    },
    {
      "cell_type": "markdown",
      "metadata": {
        "id": "pieeuwgEitQd"
      },
      "source": [
        "<H3>Find a String (Basic)</H3>"
      ]
    },
    {
      "cell_type": "code",
      "metadata": {
        "colab": {
          "base_uri": "https://localhost:8080/"
        },
        "id": "gAilP5iois9g",
        "outputId": "eaaef85a-87a3-4c76-ad63-491d61b63cfd"
      },
      "source": [
        "def count_substring(string, sub_string):\n",
        "    count_sub_string = 0\n",
        "    for i in range(len(string) - len(sub_string) + 1):\n",
        "        if string[i:i + len(sub_string)] == sub_string:\n",
        "            count_sub_string += 1\n",
        "    return count_sub_string\n",
        "\n",
        "\n",
        "if __name__ == '__main__':\n",
        "    string = input().strip()\n",
        "    sub_string = input().strip()\n",
        "\n",
        "    count = count_substring(string, sub_string)\n",
        "    print(count)"
      ],
      "execution_count": 72,
      "outputs": [
        {
          "output_type": "stream",
          "name": "stdout",
          "text": [
            "tabindatab\n",
            "tab\n",
            "2\n"
          ]
        }
      ]
    },
    {
      "cell_type": "markdown",
      "metadata": {
        "id": "x7NxVbT0iboI"
      },
      "source": [
        "<H3> Captilize (Basic)</H3>"
      ]
    },
    {
      "cell_type": "code",
      "metadata": {
        "colab": {
          "base_uri": "https://localhost:8080/"
        },
        "id": "EipvYBPzibTZ",
        "outputId": "c0f55db1-55df-44fb-f2f5-b2e3312cc9da"
      },
      "source": [
        "s = input()\n",
        "s_ar = s.split(' ')\n",
        "final_ar = []\n",
        "space = ' '\n",
        "for w in s_ar:\n",
        "    final_ar.append(w.capitalize())\n",
        "print(space.join(final_ar))"
      ],
      "execution_count": 71,
      "outputs": [
        {
          "output_type": "stream",
          "name": "stdout",
          "text": [
            "hello\n",
            "Hello\n"
          ]
        }
      ]
    },
    {
      "cell_type": "markdown",
      "metadata": {
        "id": "OTMjqNPMoEVj"
      },
      "source": [
        "<H3>Tuples (Basic)</H3>"
      ]
    },
    {
      "cell_type": "code",
      "metadata": {
        "colab": {
          "base_uri": "https://localhost:8080/"
        },
        "id": "KqakNE_9oKRs",
        "outputId": "a8833987-ad52-492e-a721-430762d207e0"
      },
      "source": [
        "# import hash\n",
        "# hash(1,2)\n",
        "if __name__ == '__main__':\n",
        "    n = int(input())\n",
        "    integer_list = map(int, input().split())\n",
        "    t = tuple(integer_list)\n",
        "    print(hash(t))\n"
      ],
      "execution_count": 25,
      "outputs": [
        {
          "output_type": "stream",
          "name": "stdout",
          "text": [
            "3\n",
            "1 2 2\n",
            "2528502973978491464\n"
          ]
        }
      ]
    },
    {
      "cell_type": "code",
      "metadata": {
        "colab": {
          "base_uri": "https://localhost:8080/"
        },
        "id": "5CkwF_2piwlg",
        "outputId": "03282e70-bd6d-485f-de7b-397563cd3805"
      },
      "source": [
        "import re\n",
        "m = re.search(r'\\w+','aaadaa')\n",
        "m.end()"
      ],
      "execution_count": null,
      "outputs": [
        {
          "output_type": "execute_result",
          "data": {
            "text/plain": [
              "6"
            ]
          },
          "metadata": {},
          "execution_count": 3
        }
      ]
    },
    {
      "cell_type": "code",
      "metadata": {
        "colab": {
          "base_uri": "https://localhost:8080/"
        },
        "id": "JXThSf1ji4yD",
        "outputId": "5599f133-cea4-47ca-ee62-08d07eb5e773"
      },
      "source": [
        "m.start()"
      ],
      "execution_count": null,
      "outputs": [
        {
          "output_type": "execute_result",
          "data": {
            "text/plain": [
              "0"
            ]
          },
          "metadata": {},
          "execution_count": 4
        }
      ]
    },
    {
      "cell_type": "markdown",
      "metadata": {
        "id": "FC9tehTAgSQO"
      },
      "source": [
        "<H3>start() & end() (Intermediate)</H3>"
      ]
    },
    {
      "cell_type": "code",
      "metadata": {
        "colab": {
          "base_uri": "https://localhost:8080/"
        },
        "id": "60V9R7GVjc7I",
        "outputId": "ee78ace4-ef49-47fa-fd96-a74d275f45b0"
      },
      "source": [
        "import re\n",
        "string = input()\n",
        "substring = input()\n",
        "\n",
        "pattern = re.compile(substring)\n",
        "# print(pattern)\n",
        "match = pattern.search(string)\n",
        "# print(match)\n",
        "\n",
        "if not match:\n",
        "  print('(-1,-1)')\n",
        "\n",
        "while match:\n",
        "  print('({0},{1})'.format(match.start(),match.end()-1))\n",
        "  match = pattern.search(string, match.start()+1)\n"
      ],
      "execution_count": 16,
      "outputs": [
        {
          "output_type": "stream",
          "name": "stdout",
          "text": [
            "Hello\n",
            "He\n",
            "(0,1)\n"
          ]
        }
      ]
    },
    {
      "cell_type": "code",
      "metadata": {
        "colab": {
          "base_uri": "https://localhost:8080/"
        },
        "id": "bVruNz8Htmt_",
        "outputId": "228a8517-1b88-4ef6-8d6e-7810bb22006e"
      },
      "source": [
        "def shout(text):\n",
        "    return text.upper()\n",
        " \n",
        "print(shout('Hello'))\n",
        " \n",
        "yell = shout\n",
        " \n",
        "print(yell('Hello'))"
      ],
      "execution_count": 113,
      "outputs": [
        {
          "output_type": "stream",
          "name": "stdout",
          "text": [
            "HELLO\n",
            "HELLO\n"
          ]
        }
      ]
    },
    {
      "cell_type": "code",
      "metadata": {
        "colab": {
          "base_uri": "https://localhost:8080/"
        },
        "id": "A_Xn3CcgxHB-",
        "outputId": "65ffa912-ecbe-46ad-bc99-ff4dcb694d8b"
      },
      "source": [
        "# Python program to illustrate functions\n",
        "# can be passed as arguments to other functions\n",
        "def shout(text):\n",
        "    return text.upper()\n",
        " \n",
        "def whisper(text):\n",
        "    return text.lower()\n",
        " \n",
        "def greet(func):\n",
        "    # storing the function in a variable\n",
        "    greeting = func(\"\"\"Hi, I am created by a function passed as an argument.\"\"\")\n",
        "    print (greeting)\n",
        " \n",
        "greet(shout)\n",
        "greet(whisper)"
      ],
      "execution_count": 114,
      "outputs": [
        {
          "output_type": "stream",
          "name": "stdout",
          "text": [
            "HI, I AM CREATED BY A FUNCTION PASSED AS AN ARGUMENT.\n",
            "hi, i am created by a function passed as an argument.\n"
          ]
        }
      ]
    },
    {
      "cell_type": "code",
      "metadata": {
        "colab": {
          "base_uri": "https://localhost:8080/"
        },
        "id": "7Xl5dI9lxdHZ",
        "outputId": "ff42f716-0afa-4ebe-e950-c29ca6b8cca7"
      },
      "source": [
        "# Python program to illustrate functions\n",
        "# Functions can return another function\n",
        " \n",
        "def create_adder(x):\n",
        "    def adder(y):\n",
        "        return x+y\n",
        " \n",
        "    return adder\n",
        " \n",
        "add_15 = create_adder(15)\n",
        " \n",
        "print(add_15(10))"
      ],
      "execution_count": 115,
      "outputs": [
        {
          "output_type": "stream",
          "name": "stdout",
          "text": [
            "25\n"
          ]
        }
      ]
    },
    {
      "cell_type": "code",
      "metadata": {
        "id": "xacnGacyyaUm"
      },
      "source": [
        "@gfg_decorator\n",
        "def hello_decorator():\n",
        "    print(\"Gfg\")\n",
        "\n",
        "# '''Above code is equivalent to -\n",
        "\n",
        "# def hello_decorator():\n",
        "#     print(\"Gfg\")\n",
        "    \n",
        "# hello_decorator = gfg_decorator(hello_decorator)'''"
      ],
      "execution_count": null,
      "outputs": []
    },
    {
      "cell_type": "code",
      "metadata": {
        "colab": {
          "base_uri": "https://localhost:8080/"
        },
        "id": "JOUAs6YkyfGm",
        "outputId": "180adad8-4b18-4ddb-9c38-ab16bedac878"
      },
      "source": [
        "# defining a decorator\n",
        "def hello_decorator(func):\n",
        "\n",
        "\t# inner1 is a Wrapper function in\n",
        "\t# which the argument is called\n",
        "\t\n",
        "\t# inner function can access the outer local\n",
        "\t# functions like in this case \"func\"\n",
        "\tdef inner1():\n",
        "\t\tprint(\"Hello, this is before function execution\")\n",
        "\n",
        "\t\t# calling the actual function now\n",
        "\t\t# inside the wrapper function.\n",
        "\t\tfunc()\n",
        "\n",
        "\t\tprint(\"This is after function execution\")\n",
        "\t\t\n",
        "\treturn inner1\n",
        "\n",
        "\n",
        "# defining a function, to be called inside wrapper\n",
        "def function_to_be_used():\n",
        "\tprint(\"This is inside the function !!\")\n",
        "\n",
        "\n",
        "# passing 'function_to_be_used' inside the\n",
        "# decorator to control its behavior\n",
        "function_to_be_used = hello_decorator(function_to_be_used)\n",
        "\n",
        "\n",
        "# calling the function\n",
        "function_to_be_used()\n"
      ],
      "execution_count": 118,
      "outputs": [
        {
          "output_type": "stream",
          "name": "stdout",
          "text": [
            "Hello, this is before function execution\n",
            "This is inside the function !!\n",
            "This is after function execution\n"
          ]
        }
      ]
    },
    {
      "cell_type": "code",
      "metadata": {
        "colab": {
          "base_uri": "https://localhost:8080/"
        },
        "id": "EQ9ObKoazds3",
        "outputId": "183c1395-bddb-4e9f-b344-8c17698ffff7"
      },
      "source": [
        "# importing libraries\n",
        "import time\n",
        "import math\n",
        "\n",
        "# decorator to calculate duration\n",
        "# taken by any function.\n",
        "def calculate_time(func):\n",
        "\t\n",
        "\t# added arguments inside the inner1,\n",
        "\t# if function takes any arguments,\n",
        "\t# can be added like this.\n",
        "\tdef inner1(*args, **kwargs):\n",
        "\n",
        "\t\t# storing time before function execution\n",
        "\t\tbegin = time.time()\n",
        "\t\t\n",
        "\t\tfunc(*args, **kwargs)\n",
        "\n",
        "\t\t# storing time after function execution\n",
        "\t\tend = time.time()\n",
        "\t\tprint(\"Total time taken in : \", func.__name__, end - begin)\n",
        "\n",
        "\treturn inner1\n",
        "\n",
        "\n",
        "\n",
        "# this can be added to any function present,\n",
        "# in this case to calculate a factorial\n",
        "@calculate_time\n",
        "def factorial(num):\n",
        "\n",
        "\t# sleep 2 seconds because it takes very less time\n",
        "\t# so that you can see the actual difference\n",
        "\ttime.sleep(2)\n",
        "\tprint(math.factorial(num))\n",
        "\n",
        "# calling the function.\n",
        "factorial(10)\n"
      ],
      "execution_count": 119,
      "outputs": [
        {
          "output_type": "stream",
          "name": "stdout",
          "text": [
            "3628800\n",
            "Total time taken in :  factorial 2.003044366836548\n"
          ]
        }
      ]
    },
    {
      "cell_type": "markdown",
      "metadata": {
        "id": "UqfA4DTUgVha"
      },
      "source": [
        "<H3>Decorators (Intermediate)</H3>"
      ]
    },
    {
      "cell_type": "code",
      "metadata": {
        "id": "Fg1_z2cFjm_g"
      },
      "source": [
        "import operator\n",
        "def person_lister(f):\n",
        "    def inner(people):\n",
        "        return map(f, sorted(people, key=lambda x: int(x[2])))\n",
        "    return inner\n",
        "\n",
        "@person_lister\n",
        "def name_format(person):\n",
        "  # print(person[1])\n",
        "  # pass\n",
        "  return (\"Mr. \" if person[3] == \"M\" else \"Ms. \") + person[0] + \" \" + person[1]\n",
        "\n",
        "if __name__ == '__main__':\n",
        "    people = [input().split() for i in range(int(input()))]\n",
        "    print(*name_format(people), sep='\\n')"
      ],
      "execution_count": null,
      "outputs": []
    },
    {
      "cell_type": "markdown",
      "metadata": {
        "id": "tNwqOhaOgbRC"
      },
      "source": [
        "<H3>Form a Pattern (Basic)</H3>"
      ]
    },
    {
      "cell_type": "code",
      "metadata": {
        "colab": {
          "base_uri": "https://localhost:8080/"
        },
        "id": "RZ0ighTWnsfq",
        "outputId": "96177a6b-e8c6-40c4-8b9b-8a58430360cc"
      },
      "source": [
        "for i in range(1,int(input())):\n",
        "    print([0, 1, 22, 333, 4444, 55555, 666666, 7777777, 88888888, 999999999][i])\n"
      ],
      "execution_count": null,
      "outputs": [
        {
          "output_type": "stream",
          "name": "stdout",
          "text": [
            "3\n",
            "1\n",
            "22\n"
          ]
        }
      ]
    },
    {
      "cell_type": "markdown",
      "metadata": {
        "id": "X1-h79zfgicu"
      },
      "source": [
        "<H3>Nested List (Basic)</H3>"
      ]
    },
    {
      "cell_type": "code",
      "metadata": {
        "id": "vadQCYjEyyT0",
        "colab": {
          "base_uri": "https://localhost:8080/"
        },
        "outputId": "df1da8ca-13c1-450c-ab44-42562aacae93"
      },
      "source": [
        "x, y, z, n = int(input()), int(input()), int(input()), int(input())\n",
        "print ([[a,b,c] for a in range(0,x+1) for b in range(0,y+1) for c in range(0,z+1) if a + b + c != n ])"
      ],
      "execution_count": null,
      "outputs": [
        {
          "output_type": "stream",
          "name": "stdout",
          "text": [
            "2\n",
            "2\n",
            "2\n",
            "2\n",
            "[[0, 0, 0], [0, 0, 1], [0, 1, 0], [0, 1, 2], [0, 2, 1], [0, 2, 2], [1, 0, 0], [1, 0, 2], [1, 1, 1], [1, 1, 2], [1, 2, 0], [1, 2, 1], [1, 2, 2], [2, 0, 1], [2, 0, 2], [2, 1, 0], [2, 1, 1], [2, 1, 2], [2, 2, 0], [2, 2, 1], [2, 2, 2]]\n"
          ]
        }
      ]
    },
    {
      "cell_type": "markdown",
      "metadata": {
        "id": "By4dsChZgn5f"
      },
      "source": [
        "<H3>Nested List (Basic)</H3>"
      ]
    },
    {
      "cell_type": "code",
      "metadata": {
        "colab": {
          "base_uri": "https://localhost:8080/"
        },
        "id": "g-rXZmmSSrwg",
        "outputId": "b8cf1423-fb72-40dc-d4f0-99f36bab4790"
      },
      "source": [
        "x = int(input())\n",
        "y = int(input())\n",
        "z = int(input())\n",
        "print([[a,b,c] for a in range(0,x+1) for b in range(0,y+1) for c in range(0,z+1)])"
      ],
      "execution_count": null,
      "outputs": [
        {
          "output_type": "stream",
          "name": "stdout",
          "text": [
            "1\n",
            "2\n",
            "2\n",
            "[[0, 0, 0], [0, 0, 1], [0, 0, 2], [0, 1, 0], [0, 1, 1], [0, 1, 2], [0, 2, 0], [0, 2, 1], [0, 2, 2], [1, 0, 0], [1, 0, 1], [1, 0, 2], [1, 1, 0], [1, 1, 1], [1, 1, 2], [1, 2, 0], [1, 2, 1], [1, 2, 2]]\n"
          ]
        }
      ]
    },
    {
      "cell_type": "code",
      "metadata": {
        "colab": {
          "base_uri": "https://localhost:8080/"
        },
        "id": "q84EXUWITPOo",
        "outputId": "2216705f-226f-4ccd-8fc6-3a2df7247b19"
      },
      "source": [
        "for i in range(0,2):\n",
        "  print(i)"
      ],
      "execution_count": null,
      "outputs": [
        {
          "output_type": "stream",
          "name": "stdout",
          "text": [
            "0\n",
            "1\n"
          ]
        }
      ]
    },
    {
      "cell_type": "markdown",
      "metadata": {
        "id": "z6GrKa6Dgweu"
      },
      "source": [
        "<H3>LISTS (Basic)</H3>"
      ]
    },
    {
      "cell_type": "code",
      "metadata": {
        "colab": {
          "base_uri": "https://localhost:8080/"
        },
        "id": "e9pP5EQOUMZv",
        "outputId": "35050c4f-66a0-4e7e-bcb0-748e1555479d"
      },
      "source": [
        "n = int(input())\n",
        "arr = list(map(int, input().split()))\n",
        "m =max(arr)\n",
        "while max(arr)==m:\n",
        "  arr.remove(max(arr))\n",
        "print(max(arr))"
      ],
      "execution_count": null,
      "outputs": [
        {
          "output_type": "stream",
          "name": "stdout",
          "text": [
            "5\n",
            "6 6 8 9 1 5\n",
            "8\n"
          ]
        }
      ]
    },
    {
      "cell_type": "markdown",
      "metadata": {
        "id": "5AzaN5Y7DSV-"
      },
      "source": [
        "<H3>String Split and Join (Basics)</H3>"
      ]
    },
    {
      "cell_type": "code",
      "metadata": {
        "colab": {
          "base_uri": "https://localhost:8080/"
        },
        "id": "X3wJ1OxBDRjo",
        "outputId": "0def2c7b-4420-438c-9d47-4f8f4b64b610"
      },
      "source": [
        "def split_and_join(line):\n",
        "    # write your code here\n",
        "    res = '-'.join(line.split())\n",
        "    return res\n",
        "\n",
        "if __name__ == '__main__':\n",
        "    line = input()\n",
        "    result = split_and_join(line)\n",
        "    print(result)"
      ],
      "execution_count": 39,
      "outputs": [
        {
          "output_type": "stream",
          "name": "stdout",
          "text": [
            "Hello there\n",
            "Hello-there\n"
          ]
        }
      ]
    },
    {
      "cell_type": "markdown",
      "metadata": {
        "id": "xWz4JLrUE6tH"
      },
      "source": [
        "<H3>Validating phone numbers</H3>"
      ]
    },
    {
      "cell_type": "code",
      "metadata": {
        "colab": {
          "base_uri": "https://localhost:8080/"
        },
        "id": "ZPHkI8EvE_ET",
        "outputId": "83ca1a37-37b5-4758-9253-4ee8965c170a"
      },
      "source": [
        "from re import compile, match\n",
        "\n",
        "n = int(input())\n",
        "for _ in range(n):\n",
        "    phone_number = input()\n",
        "    condition = compile(r'^[7-9]\\d{9}$')\n",
        "    # print(match(condition,phone_number))\n",
        "    if bool(match(condition, phone_number)):\n",
        "        print(\"YES\")\n",
        "    else:\n",
        "        print(\"NO\")"
      ],
      "execution_count": 6,
      "outputs": [
        {
          "output_type": "stream",
          "name": "stdout",
          "text": [
            "1\n",
            "9906568140\n",
            "<re.Match object; span=(0, 10), match='9906568140'>\n",
            "YES\n"
          ]
        }
      ]
    },
    {
      "cell_type": "markdown",
      "metadata": {
        "id": "vBfPwKU7g21g"
      },
      "source": [
        "<H3> Calculate Marks (Basic)</H3>"
      ]
    },
    {
      "cell_type": "code",
      "metadata": {
        "id": "fi6oCeRCWbct"
      },
      "source": [
        "marksheet = []\n",
        "for _ in range(0,int(input())):\n",
        "    marksheet.append([input(), float(input())])\n",
        "# print(marksheet)\n",
        "second_highest = sorted(list(set([marks for name, marks in marksheet])))[1]\n",
        "# print(second_highest)\n",
        "print('\\n'.join([a for a,b in sorted(marksheet) if b == second_highest ]))"
      ],
      "execution_count": null,
      "outputs": []
    },
    {
      "cell_type": "markdown",
      "metadata": {
        "id": "rbD75DtxqmpQ"
      },
      "source": [
        "<H3> Default Arguments (Intermediate) </H3>"
      ]
    },
    {
      "cell_type": "code",
      "metadata": {
        "id": "4h4a1UNAaZ_c",
        "colab": {
          "base_uri": "https://localhost:8080/"
        },
        "outputId": "38466b9f-4c81-4212-d52b-55f3fae3bd9a"
      },
      "source": [
        "class EvenStream(object):\n",
        "    def __init__(self):\n",
        "        self.current = 0\n",
        "\n",
        "    def get_next(self):\n",
        "        to_return = self.current\n",
        "        self.current += 2\n",
        "        return to_return\n",
        "\n",
        "class OddStream(object):\n",
        "    def __init__(self):\n",
        "        self.current = 1\n",
        "\n",
        "    def get_next(self):\n",
        "        to_return = self.current\n",
        "        self.current += 2\n",
        "        return to_return\n",
        "\n",
        "def print_from_stream(n, stream=EvenStream()):\n",
        "    stream.__init__()\n",
        "    for _ in range(n):\n",
        "        print(stream.get_next())\n",
        "\n",
        "\n",
        "queries = int(input())\n",
        "for _ in range(queries):\n",
        "    stream_name, n = input().split()\n",
        "    n = int(n)\n",
        "    if stream_name == \"even\":\n",
        "        print_from_stream(n)\n",
        "    else:\n",
        "        print_from_stream(n, OddStream())"
      ],
      "execution_count": 26,
      "outputs": [
        {
          "output_type": "stream",
          "name": "stdout",
          "text": [
            "3\n",
            "odd 2\n",
            "1\n",
            "3\n",
            "even 3\n",
            "0\n",
            "2\n",
            "4\n",
            "odd 5\n",
            "1\n",
            "3\n",
            "5\n",
            "7\n",
            "9\n"
          ]
        }
      ]
    },
    {
      "cell_type": "code",
      "metadata": {
        "colab": {
          "base_uri": "https://localhost:8080/"
        },
        "id": "UPbLr1N0xtpj",
        "outputId": "70d2c644-e4a3-4fa8-fed3-f435505db835"
      },
      "source": [
        "def create_multipliers():\n",
        "    return [lambda x : i * x for i in range(5)]\n",
        "\n",
        "create_multipliers()\n"
      ],
      "execution_count": 32,
      "outputs": [
        {
          "output_type": "execute_result",
          "data": {
            "text/plain": [
              "[<function __main__.create_multipliers.<locals>.<listcomp>.<lambda>>,\n",
              " <function __main__.create_multipliers.<locals>.<listcomp>.<lambda>>,\n",
              " <function __main__.create_multipliers.<locals>.<listcomp>.<lambda>>,\n",
              " <function __main__.create_multipliers.<locals>.<listcomp>.<lambda>>,\n",
              " <function __main__.create_multipliers.<locals>.<listcomp>.<lambda>>]"
            ]
          },
          "metadata": {},
          "execution_count": 32
        }
      ]
    },
    {
      "cell_type": "code",
      "metadata": {
        "colab": {
          "base_uri": "https://localhost:8080/"
        },
        "id": "thTn94GhsEwd",
        "outputId": "2bf1b49f-9e42-4df2-b21f-56aa6390e8c1"
      },
      "source": [
        "def create_multipliers():\n",
        "    return [lambda x : i * x for i in range(5)]\n",
        "\n",
        "for multiplier in create_multipliers():\n",
        "  print(multiplier(2))"
      ],
      "execution_count": 29,
      "outputs": [
        {
          "output_type": "stream",
          "name": "stdout",
          "text": [
            "8\n",
            "8\n",
            "8\n",
            "8\n",
            "8\n"
          ]
        }
      ]
    },
    {
      "cell_type": "code",
      "metadata": {
        "id": "QPMvDVaL_5A-"
      },
      "source": [
        "from functools import partial\n",
        "from operator import mul\n",
        "\n",
        "def create_multipliers():\n",
        "    return [partial(mul, i) for i in range(5)]"
      ],
      "execution_count": 34,
      "outputs": []
    },
    {
      "cell_type": "code",
      "metadata": {
        "colab": {
          "base_uri": "https://localhost:8080/"
        },
        "id": "RN_pefIy_6LP",
        "outputId": "864a9aed-11a7-4204-b328-836aaacec1c6"
      },
      "source": [
        "for multiplier in create_multipliers():\n",
        "  print(multiplier(2))"
      ],
      "execution_count": 35,
      "outputs": [
        {
          "output_type": "stream",
          "name": "stdout",
          "text": [
            "0\n",
            "2\n",
            "4\n",
            "6\n",
            "8\n"
          ]
        }
      ]
    },
    {
      "cell_type": "markdown",
      "metadata": {
        "id": "U2payvx-HXFr"
      },
      "source": [
        "<H3>The Minion Game</H3>"
      ]
    },
    {
      "cell_type": "code",
      "metadata": {
        "colab": {
          "base_uri": "https://localhost:8080/"
        },
        "id": "e-enHiCm_-xA",
        "outputId": "2ee9a6a0-f493-4eb4-effa-fb2b7f452ecc"
      },
      "source": [
        "def minion_game(string):\n",
        "    # your code goes here\n",
        "    vowels = 'AEIOU'\n",
        "    Stuart_score, Kevin_score = 0, 0\n",
        "    length = len(string)\n",
        "    for start_idx in range(length):\n",
        "        score = length - start_idx\n",
        "        if string[start_idx] in vowels:\n",
        "            Kevin_score += score\n",
        "        else:\n",
        "            Stuart_score += score\n",
        "    if Stuart_score == Kevin_score:\n",
        "        print('Draw')\n",
        "    if Stuart_score > Kevin_score:\n",
        "        print('Stuart {}'.format(Stuart_score))\n",
        "    if Stuart_score < Kevin_score:\n",
        "        print('Kevin {}'.format(Kevin_score))\n",
        "if __name__ == '__main__':\n",
        "  s = input()\n",
        "  minion_game(s)"
      ],
      "execution_count": 39,
      "outputs": [
        {
          "output_type": "stream",
          "name": "stdout",
          "text": [
            "BANANA\n",
            "Stuart 12\n"
          ]
        }
      ]
    },
    {
      "cell_type": "code",
      "metadata": {
        "colab": {
          "base_uri": "https://localhost:8080/"
        },
        "id": "mJdqkJPrJe7k",
        "outputId": "c01b960e-71e6-40cf-9f29-75e8c250f06e"
      },
      "source": [
        "def minion_game(string):\n",
        "    # your code goes here\n",
        "    res = [string[i: j] for i in range(len(string)) for j in range(i + 1, len(string) + 1)]\n",
        "    auxiliaryList = []\n",
        "    for word in res:\n",
        "      if word not in auxiliaryList:\n",
        "        auxiliaryList.append(word)\n",
        "    vowel = \"aeiouAEIOU\"\n",
        "    lis = []\n",
        "    lis1 = []\n",
        "    for i in auxiliaryList:\n",
        "      if i[0] in vowel:\n",
        "        lis.append(i)   \n",
        "      else:\n",
        "        lis1.append(i)\n",
        "    score = 0\n",
        "    for i in lis1:\n",
        "      for j in res:\n",
        "        if i == j:\n",
        "          score = score +1\n",
        "        \n",
        "    print(\"Stuart\",score)\n",
        "\n",
        "if __name__ == '__main__':\n",
        "  s = input()\n",
        "  minion_game(s)\n",
        "    #   score = score +1\n",
        "    # print(score)\n",
        "\n",
        "# score = 0\n",
        "# for occ in lis:\n",
        "#   if occ in test_str:\n",
        "#     score = score +1\n",
        "#     print(occ,score)\n",
        "\n",
        "\n",
        "\n",
        "\n",
        "    # print (\"1st letter is consonant: \",i) \n",
        "  # for j in vowels:\n",
        "  #   if i.startswith(j):\n",
        "  #     print(i)\n",
        "\n",
        "# vowel = \"aeiouAEIOU\"\n",
        "# if test_str[0] in vowel:\n",
        "#     print (\"1st letter is vowel: \",x)       \n",
        "# else:\n",
        "#     print (\"1st letter is consonant: \",x)   \n",
        "\n",
        "    "
      ],
      "execution_count": 40,
      "outputs": [
        {
          "output_type": "stream",
          "name": "stdout",
          "text": [
            "Banana\n",
            "Stuart 12\n"
          ]
        }
      ]
    },
    {
      "cell_type": "code",
      "metadata": {
        "colab": {
          "base_uri": "https://localhost:8080/"
        },
        "id": "CbCwc-QnLLZ1",
        "outputId": "3825013a-20bb-46e5-b002-de8a266e14cc"
      },
      "source": [
        "n = int(input(\"Enter rows: \"))\n",
        "k,p,s = 0,n-1,1\n",
        "for i in range(n):\n",
        "  if k<=p:\n",
        "    print(\" \"*p + \"*\" * s + \" \" * (p-1), end = \" \")\n",
        "    print()\n",
        "    p = p-1\n",
        "    s = s+2"
      ],
      "execution_count": 42,
      "outputs": [
        {
          "output_type": "stream",
          "name": "stdout",
          "text": [
            "Enter rows: 10\n",
            "         *         \n",
            "        ***        \n",
            "       *****       \n",
            "      *******      \n",
            "     *********     \n",
            "    ***********    \n",
            "   *************   \n",
            "  ***************  \n",
            " ***************** \n",
            "******************* \n"
          ]
        }
      ]
    },
    {
      "cell_type": "markdown",
      "metadata": {
        "id": "N38knXV4eR3Z"
      },
      "source": [
        "<H3> CRISTMAS TREE (NOT A HAKERRANK PROBLEM) </H3>"
      ]
    },
    {
      "cell_type": "code",
      "metadata": {
        "colab": {
          "base_uri": "https://localhost:8080/"
        },
        "id": "_A7fPH2lcccY",
        "outputId": "66790835-f8bb-4042-ce5d-b2afee20094e"
      },
      "source": [
        "# n = int(input(\"Enter rows: \"))\n",
        "\n",
        "def cristmas(n,k=0,s=1):\n",
        "  p = n-1\n",
        "  # k,p,s = 0,n-1,1\n",
        "  for i in range(n):\n",
        "    if k<=p:\n",
        "      print(\" \"*p + \"*\" * s + \" \" * (p-1), end = \" \")\n",
        "      print()\n",
        "      p = p-1\n",
        "      s = s+2\n",
        "\n",
        "cristmas(10,3)\n",
        "cristmas(9,3,4)\n",
        "cristmas(8,3,5)\n",
        "\n",
        "for i in range(5):\n",
        "  print(\"      \", \"*\"*5)"
      ],
      "execution_count": 67,
      "outputs": [
        {
          "output_type": "stream",
          "name": "stdout",
          "text": [
            "         *         \n",
            "        ***        \n",
            "       *****       \n",
            "      *******      \n",
            "     *********     \n",
            "    ***********    \n",
            "   *************   \n",
            "        ****        \n",
            "       ******       \n",
            "      ********      \n",
            "     **********     \n",
            "    ************    \n",
            "   **************   \n",
            "       *****       \n",
            "      *******      \n",
            "     *********     \n",
            "    ***********    \n",
            "   *************   \n",
            "       *****\n",
            "       *****\n",
            "       *****\n",
            "       *****\n",
            "       *****\n"
          ]
        }
      ]
    },
    {
      "cell_type": "markdown",
      "metadata": {
        "id": "H-BWXting9IO"
      },
      "source": [
        "<H1> Alphabet Rangoli (Basic) </H3>\n"
      ]
    },
    {
      "cell_type": "code",
      "metadata": {
        "colab": {
          "base_uri": "https://localhost:8080/"
        },
        "id": "Txg3NDSIc8TB",
        "outputId": "040a48b0-34fa-4e7b-dff3-fde871435ecb"
      },
      "source": [
        "def print_rangoli(n):\n",
        "    w = (n-1) * 2 + ((n * 2) - 1)\n",
        "    #upper half\n",
        "    for i in range(1,n,1):\n",
        "        number_of_letter = (i*2) - 1\n",
        "        s = ''\n",
        "        letter_value = 97 + n - 1\n",
        "        for i in range(0,number_of_letter):\n",
        "            if(i != 0):\n",
        "                s += '-' \n",
        "            s += chr(letter_value) \n",
        "            if(i<(number_of_letter-1) / 2):\n",
        "                letter_value = letter_value - 1\n",
        "            else:\n",
        "                letter_value = letter_value + 1            \n",
        "        print(s.center(w,'-'))\n",
        "        \n",
        "        \n",
        "    #bottom half\n",
        "    for i in range(n,0,-1):\n",
        "        number_of_letter = (i*2) - 1\n",
        "        s = ''\n",
        "        letter_value = 97 + n - 1\n",
        "        for i in range(0,number_of_letter):\n",
        "            if(i != 0):\n",
        "                s += '-' \n",
        "            s += chr(letter_value) \n",
        "            if(i<(number_of_letter-1) / 2):\n",
        "                letter_value = letter_value - 1\n",
        "            else:\n",
        "                letter_value = letter_value + 1            \n",
        "        print(s.center(w,'-'))\n",
        "        # your code goes here\n",
        "\n",
        "if __name__ == '__main__':\n",
        "    n = int(input())\n",
        "    print_rangoli(n)"
      ],
      "execution_count": 70,
      "outputs": [
        {
          "output_type": "stream",
          "name": "stdout",
          "text": [
            "26\n",
            "--------------------------------------------------z--------------------------------------------------\n",
            "------------------------------------------------z-y-z------------------------------------------------\n",
            "----------------------------------------------z-y-x-y-z----------------------------------------------\n",
            "--------------------------------------------z-y-x-w-x-y-z--------------------------------------------\n",
            "------------------------------------------z-y-x-w-v-w-x-y-z------------------------------------------\n",
            "----------------------------------------z-y-x-w-v-u-v-w-x-y-z----------------------------------------\n",
            "--------------------------------------z-y-x-w-v-u-t-u-v-w-x-y-z--------------------------------------\n",
            "------------------------------------z-y-x-w-v-u-t-s-t-u-v-w-x-y-z------------------------------------\n",
            "----------------------------------z-y-x-w-v-u-t-s-r-s-t-u-v-w-x-y-z----------------------------------\n",
            "--------------------------------z-y-x-w-v-u-t-s-r-q-r-s-t-u-v-w-x-y-z--------------------------------\n",
            "------------------------------z-y-x-w-v-u-t-s-r-q-p-q-r-s-t-u-v-w-x-y-z------------------------------\n",
            "----------------------------z-y-x-w-v-u-t-s-r-q-p-o-p-q-r-s-t-u-v-w-x-y-z----------------------------\n",
            "--------------------------z-y-x-w-v-u-t-s-r-q-p-o-n-o-p-q-r-s-t-u-v-w-x-y-z--------------------------\n",
            "------------------------z-y-x-w-v-u-t-s-r-q-p-o-n-m-n-o-p-q-r-s-t-u-v-w-x-y-z------------------------\n",
            "----------------------z-y-x-w-v-u-t-s-r-q-p-o-n-m-l-m-n-o-p-q-r-s-t-u-v-w-x-y-z----------------------\n",
            "--------------------z-y-x-w-v-u-t-s-r-q-p-o-n-m-l-k-l-m-n-o-p-q-r-s-t-u-v-w-x-y-z--------------------\n",
            "------------------z-y-x-w-v-u-t-s-r-q-p-o-n-m-l-k-j-k-l-m-n-o-p-q-r-s-t-u-v-w-x-y-z------------------\n",
            "----------------z-y-x-w-v-u-t-s-r-q-p-o-n-m-l-k-j-i-j-k-l-m-n-o-p-q-r-s-t-u-v-w-x-y-z----------------\n",
            "--------------z-y-x-w-v-u-t-s-r-q-p-o-n-m-l-k-j-i-h-i-j-k-l-m-n-o-p-q-r-s-t-u-v-w-x-y-z--------------\n",
            "------------z-y-x-w-v-u-t-s-r-q-p-o-n-m-l-k-j-i-h-g-h-i-j-k-l-m-n-o-p-q-r-s-t-u-v-w-x-y-z------------\n",
            "----------z-y-x-w-v-u-t-s-r-q-p-o-n-m-l-k-j-i-h-g-f-g-h-i-j-k-l-m-n-o-p-q-r-s-t-u-v-w-x-y-z----------\n",
            "--------z-y-x-w-v-u-t-s-r-q-p-o-n-m-l-k-j-i-h-g-f-e-f-g-h-i-j-k-l-m-n-o-p-q-r-s-t-u-v-w-x-y-z--------\n",
            "------z-y-x-w-v-u-t-s-r-q-p-o-n-m-l-k-j-i-h-g-f-e-d-e-f-g-h-i-j-k-l-m-n-o-p-q-r-s-t-u-v-w-x-y-z------\n",
            "----z-y-x-w-v-u-t-s-r-q-p-o-n-m-l-k-j-i-h-g-f-e-d-c-d-e-f-g-h-i-j-k-l-m-n-o-p-q-r-s-t-u-v-w-x-y-z----\n",
            "--z-y-x-w-v-u-t-s-r-q-p-o-n-m-l-k-j-i-h-g-f-e-d-c-b-c-d-e-f-g-h-i-j-k-l-m-n-o-p-q-r-s-t-u-v-w-x-y-z--\n",
            "z-y-x-w-v-u-t-s-r-q-p-o-n-m-l-k-j-i-h-g-f-e-d-c-b-a-b-c-d-e-f-g-h-i-j-k-l-m-n-o-p-q-r-s-t-u-v-w-x-y-z\n",
            "--z-y-x-w-v-u-t-s-r-q-p-o-n-m-l-k-j-i-h-g-f-e-d-c-b-c-d-e-f-g-h-i-j-k-l-m-n-o-p-q-r-s-t-u-v-w-x-y-z--\n",
            "----z-y-x-w-v-u-t-s-r-q-p-o-n-m-l-k-j-i-h-g-f-e-d-c-d-e-f-g-h-i-j-k-l-m-n-o-p-q-r-s-t-u-v-w-x-y-z----\n",
            "------z-y-x-w-v-u-t-s-r-q-p-o-n-m-l-k-j-i-h-g-f-e-d-e-f-g-h-i-j-k-l-m-n-o-p-q-r-s-t-u-v-w-x-y-z------\n",
            "--------z-y-x-w-v-u-t-s-r-q-p-o-n-m-l-k-j-i-h-g-f-e-f-g-h-i-j-k-l-m-n-o-p-q-r-s-t-u-v-w-x-y-z--------\n",
            "----------z-y-x-w-v-u-t-s-r-q-p-o-n-m-l-k-j-i-h-g-f-g-h-i-j-k-l-m-n-o-p-q-r-s-t-u-v-w-x-y-z----------\n",
            "------------z-y-x-w-v-u-t-s-r-q-p-o-n-m-l-k-j-i-h-g-h-i-j-k-l-m-n-o-p-q-r-s-t-u-v-w-x-y-z------------\n",
            "--------------z-y-x-w-v-u-t-s-r-q-p-o-n-m-l-k-j-i-h-i-j-k-l-m-n-o-p-q-r-s-t-u-v-w-x-y-z--------------\n",
            "----------------z-y-x-w-v-u-t-s-r-q-p-o-n-m-l-k-j-i-j-k-l-m-n-o-p-q-r-s-t-u-v-w-x-y-z----------------\n",
            "------------------z-y-x-w-v-u-t-s-r-q-p-o-n-m-l-k-j-k-l-m-n-o-p-q-r-s-t-u-v-w-x-y-z------------------\n",
            "--------------------z-y-x-w-v-u-t-s-r-q-p-o-n-m-l-k-l-m-n-o-p-q-r-s-t-u-v-w-x-y-z--------------------\n",
            "----------------------z-y-x-w-v-u-t-s-r-q-p-o-n-m-l-m-n-o-p-q-r-s-t-u-v-w-x-y-z----------------------\n",
            "------------------------z-y-x-w-v-u-t-s-r-q-p-o-n-m-n-o-p-q-r-s-t-u-v-w-x-y-z------------------------\n",
            "--------------------------z-y-x-w-v-u-t-s-r-q-p-o-n-o-p-q-r-s-t-u-v-w-x-y-z--------------------------\n",
            "----------------------------z-y-x-w-v-u-t-s-r-q-p-o-p-q-r-s-t-u-v-w-x-y-z----------------------------\n",
            "------------------------------z-y-x-w-v-u-t-s-r-q-p-q-r-s-t-u-v-w-x-y-z------------------------------\n",
            "--------------------------------z-y-x-w-v-u-t-s-r-q-r-s-t-u-v-w-x-y-z--------------------------------\n",
            "----------------------------------z-y-x-w-v-u-t-s-r-s-t-u-v-w-x-y-z----------------------------------\n",
            "------------------------------------z-y-x-w-v-u-t-s-t-u-v-w-x-y-z------------------------------------\n",
            "--------------------------------------z-y-x-w-v-u-t-u-v-w-x-y-z--------------------------------------\n",
            "----------------------------------------z-y-x-w-v-u-v-w-x-y-z----------------------------------------\n",
            "------------------------------------------z-y-x-w-v-w-x-y-z------------------------------------------\n",
            "--------------------------------------------z-y-x-w-x-y-z--------------------------------------------\n",
            "----------------------------------------------z-y-x-y-z----------------------------------------------\n",
            "------------------------------------------------z-y-z------------------------------------------------\n",
            "--------------------------------------------------z--------------------------------------------------\n"
          ]
        }
      ]
    },
    {
      "cell_type": "code",
      "metadata": {
        "id": "IgccGcFghCHr"
      },
      "source": [
        ""
      ],
      "execution_count": null,
      "outputs": []
    }
  ]
}