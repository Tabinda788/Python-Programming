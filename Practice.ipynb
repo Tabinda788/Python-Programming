{
  "nbformat": 4,
  "nbformat_minor": 0,
  "metadata": {
    "colab": {
      "name": "Practice.ipynb",
      "provenance": [],
      "collapsed_sections": [],
      "authorship_tag": "ABX9TyMK7tiMsGBl3qAHvTmCoxJN",
      "include_colab_link": true
    },
    "kernelspec": {
      "name": "python3",
      "display_name": "Python 3"
    },
    "language_info": {
      "name": "python"
    }
  },
  "cells": [
    {
      "cell_type": "markdown",
      "metadata": {
        "id": "view-in-github",
        "colab_type": "text"
      },
      "source": [
        "<a href=\"https://colab.research.google.com/github/Tabinda788/Python-Programming/blob/master/Practice.ipynb\" target=\"_parent\"><img src=\"https://colab.research.google.com/assets/colab-badge.svg\" alt=\"Open In Colab\"/></a>"
      ]
    },
    {
      "cell_type": "markdown",
      "metadata": {
        "id": "V29a-AJDTkSx"
      },
      "source": [
        "<h1>HackerRank Problems Practice</H1>"
      ]
    },
    {
      "cell_type": "markdown",
      "metadata": {
        "id": "fgBYNk8xUI24"
      },
      "source": [
        "<H3> Finding The Percentage (Basic) </H3>"
      ]
    },
    {
      "cell_type": "code",
      "metadata": {
        "colab": {
          "base_uri": "https://localhost:8080/"
        },
        "id": "rP0ac4_fUHe0",
        "outputId": "f7f0d169-9591-421e-9fca-81603a8b33df"
      },
      "source": [
        "if __name__ == '__main__':\n",
        "    n = int(input())\n",
        "    student_marks = {}\n",
        "    for _ in range(n):\n",
        "        name, *line = input().split()\n",
        "        scores = list(map(float, line))\n",
        "        student_marks[name] = scores\n",
        "    query_name = input()\n",
        "    a,b,c = student_marks[query_name]\n",
        "    print('%.2f'%((a+b+c)/3))\n",
        "    # query_scores = student_marks[query_name]\n",
        "    # sum = 0\n",
        "    # for i in query_scores:\n",
        "    #   sum += i\n",
        "    # print(sum)\n",
        "    "
      ],
      "execution_count": null,
      "outputs": [
        {
          "output_type": "stream",
          "name": "stdout",
          "text": [
            "3\n",
            "Krishna 67 68 69\n",
            "Arjun 70 98 63\n",
            "Malika 52 56 60\n",
            "Malika\n",
            "56.00\n"
          ]
        }
      ]
    },
    {
      "cell_type": "markdown",
      "metadata": {
        "id": "yPwyAFnJaQEe"
      },
      "source": [
        "<H3>Validating UID (Basic)</H3>"
      ]
    },
    {
      "cell_type": "code",
      "metadata": {
        "colab": {
          "base_uri": "https://localhost:8080/"
        },
        "id": "nGD0zJjFaPjl",
        "outputId": "541c53b2-43f9-4bc7-a9a1-c0e283ffe54a"
      },
      "source": [
        "import re\n",
        "# the assert statement is used to continue the execute if the given condition evaluates to True. \n",
        "# If the assert condition evaluates to False, \n",
        "# then it raises the AssertionError exception with the specified error message. \n",
        "for _ in range(int(input())):\n",
        "    u = ''.join(sorted(input()))\n",
        "    try:\n",
        "        assert re.search(r'[A-Z]{2}', u)\n",
        "        assert re.search(r'\\d\\d\\d', u)\n",
        "        assert not re.search(r'[^a-zA-Z0-9]', u)\n",
        "        assert not re.search(r'(.)\\1', u)\n",
        "        assert len(u) == 10\n",
        "    except:\n",
        "        print('Invalid')\n",
        "    else:\n",
        "        print('Valid')"
      ],
      "execution_count": null,
      "outputs": [
        {
          "output_type": "stream",
          "name": "stdout",
          "text": [
            "2\n",
            "B1CD102354\n",
            "Invalid\n",
            "B1CDEF2354\n",
            "Valid\n"
          ]
        }
      ]
    },
    {
      "cell_type": "markdown",
      "metadata": {
        "id": "N9XBQQB-hJdn"
      },
      "source": [
        "<H3>LISTS (Basic)</H3>"
      ]
    },
    {
      "cell_type": "code",
      "metadata": {
        "colab": {
          "base_uri": "https://localhost:8080/"
        },
        "id": "O1hhGkQihFX3",
        "outputId": "8b56713f-59a8-41b8-be34-686832ef39e6"
      },
      "source": [
        "N = int(input())\n",
        "lis= list()\n",
        "for _ in range(N):\n",
        "    s=input().strip().split(\" \")\n",
        "    if s[0]==\"insert\":\n",
        "        lis.insert(int(s[1]),int(s[2]))\n",
        "    if s[0]==\"print\":\n",
        "        print(lis)\n",
        "    if s[0]==\"remove\":\n",
        "        lis.remove(int(s[1]))\n",
        "    if s[0]==\"append\":\n",
        "        lis.append(int(s[1]))\n",
        "    if s[0]==\"sort\":\n",
        "        lis.sort()\n",
        "    if s[0]==\"pop\":\n",
        "        lis.pop()\n",
        "    if s[0]==\"reverse\":\n",
        "        lis.reverse()\n",
        "    # print(lis)\n"
      ],
      "execution_count": null,
      "outputs": [
        {
          "output_type": "stream",
          "name": "stdout",
          "text": [
            "12\n",
            "insert 0 5\n",
            "[5]\n",
            "insert 1 10\n",
            "[5, 10]\n",
            "insert 0 6\n",
            "[6, 5, 10]\n",
            "print\n",
            "[6, 5, 10]\n",
            "[6, 5, 10]\n",
            "remove 6\n",
            "[5, 10]\n",
            "append 9\n",
            "[5, 10, 9]\n",
            "append 1\n",
            "[5, 10, 9, 1]\n",
            "sort\n",
            "[1, 5, 9, 10]\n",
            "print\n",
            "[1, 5, 9, 10]\n",
            "[1, 5, 9, 10]\n",
            "pop\n",
            "[1, 5, 9]\n",
            "reverse\n",
            "[9, 5, 1]\n",
            "print\n",
            "[9, 5, 1]\n",
            "[9, 5, 1]\n"
          ]
        }
      ]
    },
    {
      "cell_type": "markdown",
      "metadata": {
        "id": "dNWfDyArqP8y"
      },
      "source": [
        "<H3> String Formatting (Basic) </H3>"
      ]
    },
    {
      "cell_type": "code",
      "metadata": {
        "colab": {
          "base_uri": "https://localhost:8080/"
        },
        "id": "viSGcDWqqPi6",
        "outputId": "054bab37-f498-46a0-f6d3-ae052c82d8db"
      },
      "source": [
        "n = int(input().strip())\n",
        "# print(len(str(bin(n))[2:]))\n",
        "w = len(str(bin(n))[2:])\n",
        "for i in range(1,n+1,1):\n",
        "    o = str(oct(i))[2:]\n",
        "    h = str(hex(i))[2:]\n",
        "    h = h.upper()\n",
        "    b = str(bin(i))[2:]\n",
        "    d = str(i)\n",
        "    print('{:>{width}} {:>{width}} {:>{width}} {:>{width}}'.format(d,o,h,b,width=w))"
      ],
      "execution_count": null,
      "outputs": [
        {
          "output_type": "stream",
          "name": "stdout",
          "text": [
            "5\n",
            "  1   1   1   1\n",
            "  2   2   2  10\n",
            "  3   3   3  11\n",
            "  4   4   4 100\n",
            "  5   5   5 101\n"
          ]
        }
      ]
    },
    {
      "cell_type": "markdown",
      "metadata": {
        "id": "UryXz4lLovOb"
      },
      "source": [
        "<H3>Mutations (Basic)</H3>"
      ]
    },
    {
      "cell_type": "code",
      "metadata": {
        "colab": {
          "base_uri": "https://localhost:8080/"
        },
        "id": "Wwvg2IYDoug3",
        "outputId": "42afb067-df4f-4957-fd68-8be498d38ca7"
      },
      "source": [
        "def mutate_string(string, position, character):\n",
        "    chars = list(string)\n",
        "    # print(chars)\n",
        "    chars[position] = character\n",
        "    # print(chars)\n",
        "    return \"\".join(chars)\n",
        "\n",
        "\n",
        "if __name__ == '__main__':\n",
        "    s = input()\n",
        "    i, c = input().split()\n",
        "    # print(i)\n",
        "    s_new = mutate_string(s, int(i), c)\n",
        "    print(s_new)"
      ],
      "execution_count": null,
      "outputs": [
        {
          "output_type": "stream",
          "name": "stdout",
          "text": [
            "tabinda \n",
            "2 3\n",
            "ta3inda \n"
          ]
        }
      ]
    },
    {
      "cell_type": "markdown",
      "metadata": {
        "id": "aADwfLGajKmC"
      },
      "source": [
        "<H3>Merge the tools (Intermediate)</H3>"
      ]
    },
    {
      "cell_type": "code",
      "metadata": {
        "colab": {
          "base_uri": "https://localhost:8080/"
        },
        "id": "w8xCv8F0jEjL",
        "outputId": "8c54b27f-5c96-4a02-8a40-b778b81eacbc"
      },
      "source": [
        "from collections import OrderedDict\n",
        "\n",
        "def merge_the_tools(string, k):\n",
        "    for i in range(0, len(string)-k+1, k):\n",
        "        # print(i)\n",
        "        # print(string[i:i + k])\n",
        "        print(''.join(OrderedDict.fromkeys(string[i:i + k])))\n",
        "\n",
        "if __name__ == '__main__':\n",
        "    string, k = input(), int(input())\n",
        "    merge_the_tools(string, k)\n"
      ],
      "execution_count": null,
      "outputs": [
        {
          "output_type": "stream",
          "name": "stdout",
          "text": [
            "tabindahilal \n",
            "4\n",
            "tabi\n",
            "ndah\n",
            "ila\n"
          ]
        }
      ]
    },
    {
      "cell_type": "code",
      "metadata": {
        "colab": {
          "base_uri": "https://localhost:8080/"
        },
        "id": "2iU41kuflMFU",
        "outputId": "e1768050-9063-424c-8f6d-6643be642683"
      },
      "source": [
        "4# vowels keys\n",
        "from collections import OrderedDict\n",
        "od = OrderedDict()\n",
        "od['a'] = 'vowel'\n",
        "od['e'] = 'vowel'\n",
        "od['i'] = 'vowel'\n",
        "od['o'] = 'vowel'\n",
        "od['u'] = 'vowel'\n",
        "# keys = {'a', 'e', 'i', 'o', 'u' }\n",
        "# value = 'vowel'\n",
        "\n",
        "vowels = od.fromkeys(keys, value)\n",
        "print(vowels)"
      ],
      "execution_count": null,
      "outputs": [
        {
          "output_type": "stream",
          "name": "stdout",
          "text": [
            "OrderedDict([('o', 'vowel'), ('i', 'vowel'), ('a', 'vowel'), ('e', 'vowel'), ('u', 'vowel')])\n"
          ]
        }
      ]
    },
    {
      "cell_type": "markdown",
      "metadata": {
        "id": "pieeuwgEitQd"
      },
      "source": [
        "<H3>Find a String (Basic)</H3>"
      ]
    },
    {
      "cell_type": "code",
      "metadata": {
        "colab": {
          "base_uri": "https://localhost:8080/"
        },
        "id": "gAilP5iois9g",
        "outputId": "eaaef85a-87a3-4c76-ad63-491d61b63cfd"
      },
      "source": [
        "def count_substring(string, sub_string):\n",
        "    count_sub_string = 0\n",
        "    for i in range(len(string) - len(sub_string) + 1):\n",
        "        if string[i:i + len(sub_string)] == sub_string:\n",
        "            count_sub_string += 1\n",
        "    return count_sub_string\n",
        "\n",
        "\n",
        "if __name__ == '__main__':\n",
        "    string = input().strip()\n",
        "    sub_string = input().strip()\n",
        "\n",
        "    count = count_substring(string, sub_string)\n",
        "    print(count)"
      ],
      "execution_count": null,
      "outputs": [
        {
          "output_type": "stream",
          "name": "stdout",
          "text": [
            "tabindatab\n",
            "tab\n",
            "2\n"
          ]
        }
      ]
    },
    {
      "cell_type": "markdown",
      "metadata": {
        "id": "x7NxVbT0iboI"
      },
      "source": [
        "<H3> Captilize (Basic)</H3>"
      ]
    },
    {
      "cell_type": "code",
      "metadata": {
        "colab": {
          "base_uri": "https://localhost:8080/"
        },
        "id": "EipvYBPzibTZ",
        "outputId": "c0f55db1-55df-44fb-f2f5-b2e3312cc9da"
      },
      "source": [
        "s = input()\n",
        "s_ar = s.split(' ')\n",
        "final_ar = []\n",
        "space = ' '\n",
        "for w in s_ar:\n",
        "    final_ar.append(w.capitalize())\n",
        "print(space.join(final_ar))"
      ],
      "execution_count": null,
      "outputs": [
        {
          "output_type": "stream",
          "name": "stdout",
          "text": [
            "hello\n",
            "Hello\n"
          ]
        }
      ]
    },
    {
      "cell_type": "markdown",
      "metadata": {
        "id": "OTMjqNPMoEVj"
      },
      "source": [
        "<H3>Tuples (Basic)</H3>"
      ]
    },
    {
      "cell_type": "code",
      "metadata": {
        "colab": {
          "base_uri": "https://localhost:8080/"
        },
        "id": "KqakNE_9oKRs",
        "outputId": "a8833987-ad52-492e-a721-430762d207e0"
      },
      "source": [
        "# import hash\n",
        "# hash(1,2)\n",
        "if __name__ == '__main__':\n",
        "    n = int(input())\n",
        "    integer_list = map(int, input().split())\n",
        "    t = tuple(integer_list)\n",
        "    print(hash(t))\n"
      ],
      "execution_count": null,
      "outputs": [
        {
          "output_type": "stream",
          "name": "stdout",
          "text": [
            "3\n",
            "1 2 2\n",
            "2528502973978491464\n"
          ]
        }
      ]
    },
    {
      "cell_type": "code",
      "metadata": {
        "colab": {
          "base_uri": "https://localhost:8080/"
        },
        "id": "5CkwF_2piwlg",
        "outputId": "03282e70-bd6d-485f-de7b-397563cd3805"
      },
      "source": [
        "import re\n",
        "m = re.search(r'\\w+','aaadaa')\n",
        "m.end()"
      ],
      "execution_count": null,
      "outputs": [
        {
          "output_type": "execute_result",
          "data": {
            "text/plain": [
              "6"
            ]
          },
          "metadata": {},
          "execution_count": 3
        }
      ]
    },
    {
      "cell_type": "code",
      "metadata": {
        "colab": {
          "base_uri": "https://localhost:8080/"
        },
        "id": "JXThSf1ji4yD",
        "outputId": "5599f133-cea4-47ca-ee62-08d07eb5e773"
      },
      "source": [
        "m.start()"
      ],
      "execution_count": null,
      "outputs": [
        {
          "output_type": "execute_result",
          "data": {
            "text/plain": [
              "0"
            ]
          },
          "metadata": {},
          "execution_count": 4
        }
      ]
    },
    {
      "cell_type": "markdown",
      "metadata": {
        "id": "FC9tehTAgSQO"
      },
      "source": [
        "<H3>start() & end() (Intermediate)</H3>"
      ]
    },
    {
      "cell_type": "code",
      "metadata": {
        "colab": {
          "base_uri": "https://localhost:8080/"
        },
        "id": "60V9R7GVjc7I",
        "outputId": "ee78ace4-ef49-47fa-fd96-a74d275f45b0"
      },
      "source": [
        "import re\n",
        "string = input()\n",
        "substring = input()\n",
        "\n",
        "pattern = re.compile(substring)\n",
        "# print(pattern)\n",
        "match = pattern.search(string)\n",
        "# print(match)\n",
        "\n",
        "if not match:\n",
        "  print('(-1,-1)')\n",
        "\n",
        "while match:\n",
        "  print('({0},{1})'.format(match.start(),match.end()-1))\n",
        "  match = pattern.search(string, match.start()+1)\n"
      ],
      "execution_count": null,
      "outputs": [
        {
          "output_type": "stream",
          "name": "stdout",
          "text": [
            "Hello\n",
            "He\n",
            "(0,1)\n"
          ]
        }
      ]
    },
    {
      "cell_type": "code",
      "metadata": {
        "colab": {
          "base_uri": "https://localhost:8080/"
        },
        "id": "bVruNz8Htmt_",
        "outputId": "228a8517-1b88-4ef6-8d6e-7810bb22006e"
      },
      "source": [
        "def shout(text):\n",
        "    return text.upper()\n",
        " \n",
        "print(shout('Hello'))\n",
        " \n",
        "yell = shout\n",
        " \n",
        "print(yell('Hello'))"
      ],
      "execution_count": null,
      "outputs": [
        {
          "output_type": "stream",
          "name": "stdout",
          "text": [
            "HELLO\n",
            "HELLO\n"
          ]
        }
      ]
    },
    {
      "cell_type": "code",
      "metadata": {
        "colab": {
          "base_uri": "https://localhost:8080/"
        },
        "id": "A_Xn3CcgxHB-",
        "outputId": "65ffa912-ecbe-46ad-bc99-ff4dcb694d8b"
      },
      "source": [
        "# Python program to illustrate functions\n",
        "# can be passed as arguments to other functions\n",
        "def shout(text):\n",
        "    return text.upper()\n",
        " \n",
        "def whisper(text):\n",
        "    return text.lower()\n",
        " \n",
        "def greet(func):\n",
        "    # storing the function in a variable\n",
        "    greeting = func(\"\"\"Hi, I am created by a function passed as an argument.\"\"\")\n",
        "    print (greeting)\n",
        " \n",
        "greet(shout)\n",
        "greet(whisper)"
      ],
      "execution_count": null,
      "outputs": [
        {
          "output_type": "stream",
          "name": "stdout",
          "text": [
            "HI, I AM CREATED BY A FUNCTION PASSED AS AN ARGUMENT.\n",
            "hi, i am created by a function passed as an argument.\n"
          ]
        }
      ]
    },
    {
      "cell_type": "code",
      "metadata": {
        "colab": {
          "base_uri": "https://localhost:8080/"
        },
        "id": "7Xl5dI9lxdHZ",
        "outputId": "ff42f716-0afa-4ebe-e950-c29ca6b8cca7"
      },
      "source": [
        "# Python program to illustrate functions\n",
        "# Functions can return another function\n",
        " \n",
        "def create_adder(x):\n",
        "    def adder(y):\n",
        "        return x+y\n",
        " \n",
        "    return adder\n",
        " \n",
        "add_15 = create_adder(15)\n",
        " \n",
        "print(add_15(10))"
      ],
      "execution_count": null,
      "outputs": [
        {
          "output_type": "stream",
          "name": "stdout",
          "text": [
            "25\n"
          ]
        }
      ]
    },
    {
      "cell_type": "code",
      "metadata": {
        "id": "xacnGacyyaUm"
      },
      "source": [
        "@gfg_decorator\n",
        "def hello_decorator():\n",
        "    print(\"Gfg\")\n",
        "\n",
        "# '''Above code is equivalent to -\n",
        "\n",
        "# def hello_decorator():\n",
        "#     print(\"Gfg\")\n",
        "    \n",
        "# hello_decorator = gfg_decorator(hello_decorator)'''"
      ],
      "execution_count": null,
      "outputs": []
    },
    {
      "cell_type": "code",
      "metadata": {
        "colab": {
          "base_uri": "https://localhost:8080/"
        },
        "id": "JOUAs6YkyfGm",
        "outputId": "180adad8-4b18-4ddb-9c38-ab16bedac878"
      },
      "source": [
        "# defining a decorator\n",
        "def hello_decorator(func):\n",
        "\n",
        "\t# inner1 is a Wrapper function in\n",
        "\t# which the argument is called\n",
        "\t\n",
        "\t# inner function can access the outer local\n",
        "\t# functions like in this case \"func\"\n",
        "\tdef inner1():\n",
        "\t\tprint(\"Hello, this is before function execution\")\n",
        "\n",
        "\t\t# calling the actual function now\n",
        "\t\t# inside the wrapper function.\n",
        "\t\tfunc()\n",
        "\n",
        "\t\tprint(\"This is after function execution\")\n",
        "\t\t\n",
        "\treturn inner1\n",
        "\n",
        "\n",
        "# defining a function, to be called inside wrapper\n",
        "def function_to_be_used():\n",
        "\tprint(\"This is inside the function !!\")\n",
        "\n",
        "\n",
        "# passing 'function_to_be_used' inside the\n",
        "# decorator to control its behavior\n",
        "function_to_be_used = hello_decorator(function_to_be_used)\n",
        "\n",
        "\n",
        "# calling the function\n",
        "function_to_be_used()\n"
      ],
      "execution_count": null,
      "outputs": [
        {
          "output_type": "stream",
          "name": "stdout",
          "text": [
            "Hello, this is before function execution\n",
            "This is inside the function !!\n",
            "This is after function execution\n"
          ]
        }
      ]
    },
    {
      "cell_type": "code",
      "metadata": {
        "colab": {
          "base_uri": "https://localhost:8080/"
        },
        "id": "EQ9ObKoazds3",
        "outputId": "183c1395-bddb-4e9f-b344-8c17698ffff7"
      },
      "source": [
        "# importing libraries\n",
        "import time\n",
        "import math\n",
        "\n",
        "# decorator to calculate duration\n",
        "# taken by any function.\n",
        "def calculate_time(func):\n",
        "\t\n",
        "\t# added arguments inside the inner1,\n",
        "\t# if function takes any arguments,\n",
        "\t# can be added like this.\n",
        "\tdef inner1(*args, **kwargs):\n",
        "\n",
        "\t\t# storing time before function execution\n",
        "\t\tbegin = time.time()\n",
        "\t\t\n",
        "\t\tfunc(*args, **kwargs)\n",
        "\n",
        "\t\t# storing time after function execution\n",
        "\t\tend = time.time()\n",
        "\t\tprint(\"Total time taken in : \", func.__name__, end - begin)\n",
        "\n",
        "\treturn inner1\n",
        "\n",
        "\n",
        "\n",
        "# this can be added to any function present,\n",
        "# in this case to calculate a factorial\n",
        "@calculate_time\n",
        "def factorial(num):\n",
        "\n",
        "\t# sleep 2 seconds because it takes very less time\n",
        "\t# so that you can see the actual difference\n",
        "\ttime.sleep(2)\n",
        "\tprint(math.factorial(num))\n",
        "\n",
        "# calling the function.\n",
        "factorial(10)\n"
      ],
      "execution_count": null,
      "outputs": [
        {
          "output_type": "stream",
          "name": "stdout",
          "text": [
            "3628800\n",
            "Total time taken in :  factorial 2.003044366836548\n"
          ]
        }
      ]
    },
    {
      "cell_type": "markdown",
      "metadata": {
        "id": "UqfA4DTUgVha"
      },
      "source": [
        "<H3>Decorators (Intermediate)</H3>"
      ]
    },
    {
      "cell_type": "code",
      "metadata": {
        "id": "Fg1_z2cFjm_g"
      },
      "source": [
        "import operator\n",
        "def person_lister(f):\n",
        "    def inner(people):\n",
        "        return map(f, sorted(people, key=lambda x: int(x[2])))\n",
        "    return inner\n",
        "\n",
        "@person_lister\n",
        "def name_format(person):\n",
        "  # print(person[1])\n",
        "  # pass\n",
        "  return (\"Mr. \" if person[3] == \"M\" else \"Ms. \") + person[0] + \" \" + person[1]\n",
        "\n",
        "if __name__ == '__main__':\n",
        "    people = [input().split() for i in range(int(input()))]\n",
        "    print(*name_format(people), sep='\\n')"
      ],
      "execution_count": null,
      "outputs": []
    },
    {
      "cell_type": "markdown",
      "metadata": {
        "id": "tNwqOhaOgbRC"
      },
      "source": [
        "<H3>Form a Pattern (Basic)</H3>"
      ]
    },
    {
      "cell_type": "code",
      "metadata": {
        "colab": {
          "base_uri": "https://localhost:8080/"
        },
        "id": "RZ0ighTWnsfq",
        "outputId": "96177a6b-e8c6-40c4-8b9b-8a58430360cc"
      },
      "source": [
        "for i in range(1,int(input())):\n",
        "    print([0, 1, 22, 333, 4444, 55555, 666666, 7777777, 88888888, 999999999][i])\n"
      ],
      "execution_count": null,
      "outputs": [
        {
          "output_type": "stream",
          "name": "stdout",
          "text": [
            "3\n",
            "1\n",
            "22\n"
          ]
        }
      ]
    },
    {
      "cell_type": "markdown",
      "metadata": {
        "id": "X1-h79zfgicu"
      },
      "source": [
        "<H3>Nested List (Basic)</H3>"
      ]
    },
    {
      "cell_type": "code",
      "metadata": {
        "id": "vadQCYjEyyT0",
        "colab": {
          "base_uri": "https://localhost:8080/"
        },
        "outputId": "df1da8ca-13c1-450c-ab44-42562aacae93"
      },
      "source": [
        "x, y, z, n = int(input()), int(input()), int(input()), int(input())\n",
        "print ([[a,b,c] for a in range(0,x+1) for b in range(0,y+1) for c in range(0,z+1) if a + b + c != n ])"
      ],
      "execution_count": null,
      "outputs": [
        {
          "output_type": "stream",
          "name": "stdout",
          "text": [
            "2\n",
            "2\n",
            "2\n",
            "2\n",
            "[[0, 0, 0], [0, 0, 1], [0, 1, 0], [0, 1, 2], [0, 2, 1], [0, 2, 2], [1, 0, 0], [1, 0, 2], [1, 1, 1], [1, 1, 2], [1, 2, 0], [1, 2, 1], [1, 2, 2], [2, 0, 1], [2, 0, 2], [2, 1, 0], [2, 1, 1], [2, 1, 2], [2, 2, 0], [2, 2, 1], [2, 2, 2]]\n"
          ]
        }
      ]
    },
    {
      "cell_type": "markdown",
      "metadata": {
        "id": "By4dsChZgn5f"
      },
      "source": [
        "<H3>Nested List (Basic)</H3>"
      ]
    },
    {
      "cell_type": "code",
      "metadata": {
        "colab": {
          "base_uri": "https://localhost:8080/"
        },
        "id": "g-rXZmmSSrwg",
        "outputId": "b8cf1423-fb72-40dc-d4f0-99f36bab4790"
      },
      "source": [
        "x = int(input())\n",
        "y = int(input())\n",
        "z = int(input())\n",
        "print([[a,b,c] for a in range(0,x+1) for b in range(0,y+1) for c in range(0,z+1)])"
      ],
      "execution_count": null,
      "outputs": [
        {
          "output_type": "stream",
          "name": "stdout",
          "text": [
            "1\n",
            "2\n",
            "2\n",
            "[[0, 0, 0], [0, 0, 1], [0, 0, 2], [0, 1, 0], [0, 1, 1], [0, 1, 2], [0, 2, 0], [0, 2, 1], [0, 2, 2], [1, 0, 0], [1, 0, 1], [1, 0, 2], [1, 1, 0], [1, 1, 1], [1, 1, 2], [1, 2, 0], [1, 2, 1], [1, 2, 2]]\n"
          ]
        }
      ]
    },
    {
      "cell_type": "code",
      "metadata": {
        "colab": {
          "base_uri": "https://localhost:8080/"
        },
        "id": "q84EXUWITPOo",
        "outputId": "2216705f-226f-4ccd-8fc6-3a2df7247b19"
      },
      "source": [
        "for i in range(0,2):\n",
        "  print(i)"
      ],
      "execution_count": null,
      "outputs": [
        {
          "output_type": "stream",
          "name": "stdout",
          "text": [
            "0\n",
            "1\n"
          ]
        }
      ]
    },
    {
      "cell_type": "markdown",
      "metadata": {
        "id": "z6GrKa6Dgweu"
      },
      "source": [
        "<H3>LISTS (Basic)</H3>"
      ]
    },
    {
      "cell_type": "code",
      "metadata": {
        "colab": {
          "base_uri": "https://localhost:8080/"
        },
        "id": "e9pP5EQOUMZv",
        "outputId": "35050c4f-66a0-4e7e-bcb0-748e1555479d"
      },
      "source": [
        "n = int(input())\n",
        "arr = list(map(int, input().split()))\n",
        "m =max(arr)\n",
        "while max(arr)==m:\n",
        "  arr.remove(max(arr))\n",
        "print(max(arr))"
      ],
      "execution_count": null,
      "outputs": [
        {
          "output_type": "stream",
          "name": "stdout",
          "text": [
            "5\n",
            "6 6 8 9 1 5\n",
            "8\n"
          ]
        }
      ]
    },
    {
      "cell_type": "markdown",
      "metadata": {
        "id": "5AzaN5Y7DSV-"
      },
      "source": [
        "<H3>String Split and Join (Basics)</H3>"
      ]
    },
    {
      "cell_type": "code",
      "metadata": {
        "colab": {
          "base_uri": "https://localhost:8080/"
        },
        "id": "X3wJ1OxBDRjo",
        "outputId": "0def2c7b-4420-438c-9d47-4f8f4b64b610"
      },
      "source": [
        "def split_and_join(line):\n",
        "    # write your code here\n",
        "    res = '-'.join(line.split())\n",
        "    return res\n",
        "\n",
        "if __name__ == '__main__':\n",
        "    line = input()\n",
        "    result = split_and_join(line)\n",
        "    print(result)"
      ],
      "execution_count": null,
      "outputs": [
        {
          "output_type": "stream",
          "name": "stdout",
          "text": [
            "Hello there\n",
            "Hello-there\n"
          ]
        }
      ]
    },
    {
      "cell_type": "markdown",
      "metadata": {
        "id": "xWz4JLrUE6tH"
      },
      "source": [
        "<H3>Validating phone numbers</H3>"
      ]
    },
    {
      "cell_type": "code",
      "metadata": {
        "colab": {
          "base_uri": "https://localhost:8080/"
        },
        "id": "ZPHkI8EvE_ET",
        "outputId": "83ca1a37-37b5-4758-9253-4ee8965c170a"
      },
      "source": [
        "from re import compile, match\n",
        "\n",
        "n = int(input())\n",
        "for _ in range(n):\n",
        "    phone_number = input()\n",
        "    condition = compile(r'^[7-9]\\d{9}$')\n",
        "    # print(match(condition,phone_number))\n",
        "    if bool(match(condition, phone_number)):\n",
        "        print(\"YES\")\n",
        "    else:\n",
        "        print(\"NO\")"
      ],
      "execution_count": null,
      "outputs": [
        {
          "output_type": "stream",
          "name": "stdout",
          "text": [
            "1\n",
            "9906568140\n",
            "<re.Match object; span=(0, 10), match='9906568140'>\n",
            "YES\n"
          ]
        }
      ]
    },
    {
      "cell_type": "markdown",
      "metadata": {
        "id": "vBfPwKU7g21g"
      },
      "source": [
        "<H3> Calculate Marks (Basic)</H3>"
      ]
    },
    {
      "cell_type": "code",
      "metadata": {
        "id": "fi6oCeRCWbct"
      },
      "source": [
        "marksheet = []\n",
        "for _ in range(0,int(input())):\n",
        "    marksheet.append([input(), float(input())])\n",
        "# print(marksheet)\n",
        "second_highest = sorted(list(set([marks for name, marks in marksheet])))[1]\n",
        "# print(second_highest)\n",
        "print('\\n'.join([a for a,b in sorted(marksheet) if b == second_highest ]))"
      ],
      "execution_count": null,
      "outputs": []
    },
    {
      "cell_type": "markdown",
      "metadata": {
        "id": "rbD75DtxqmpQ"
      },
      "source": [
        "<H3> Default Arguments (Intermediate) </H3>"
      ]
    },
    {
      "cell_type": "code",
      "metadata": {
        "id": "4h4a1UNAaZ_c",
        "colab": {
          "base_uri": "https://localhost:8080/"
        },
        "outputId": "38466b9f-4c81-4212-d52b-55f3fae3bd9a"
      },
      "source": [
        "class EvenStream(object):\n",
        "    def __init__(self):\n",
        "        self.current = 0\n",
        "\n",
        "    def get_next(self):\n",
        "        to_return = self.current\n",
        "        self.current += 2\n",
        "        return to_return\n",
        "\n",
        "class OddStream(object):\n",
        "    def __init__(self):\n",
        "        self.current = 1\n",
        "\n",
        "    def get_next(self):\n",
        "        to_return = self.current\n",
        "        self.current += 2\n",
        "        return to_return\n",
        "\n",
        "def print_from_stream(n, stream=EvenStream()):\n",
        "    stream.__init__()\n",
        "    for _ in range(n):\n",
        "        print(stream.get_next())\n",
        "\n",
        "\n",
        "queries = int(input())\n",
        "for _ in range(queries):\n",
        "    stream_name, n = input().split()\n",
        "    n = int(n)\n",
        "    if stream_name == \"even\":\n",
        "        print_from_stream(n)\n",
        "    else:\n",
        "        print_from_stream(n, OddStream())"
      ],
      "execution_count": null,
      "outputs": [
        {
          "output_type": "stream",
          "name": "stdout",
          "text": [
            "3\n",
            "odd 2\n",
            "1\n",
            "3\n",
            "even 3\n",
            "0\n",
            "2\n",
            "4\n",
            "odd 5\n",
            "1\n",
            "3\n",
            "5\n",
            "7\n",
            "9\n"
          ]
        }
      ]
    },
    {
      "cell_type": "code",
      "metadata": {
        "colab": {
          "base_uri": "https://localhost:8080/"
        },
        "id": "UPbLr1N0xtpj",
        "outputId": "70d2c644-e4a3-4fa8-fed3-f435505db835"
      },
      "source": [
        "def create_multipliers():\n",
        "    return [lambda x : i * x for i in range(5)]\n",
        "\n",
        "create_multipliers()\n"
      ],
      "execution_count": null,
      "outputs": [
        {
          "output_type": "execute_result",
          "data": {
            "text/plain": [
              "[<function __main__.create_multipliers.<locals>.<listcomp>.<lambda>>,\n",
              " <function __main__.create_multipliers.<locals>.<listcomp>.<lambda>>,\n",
              " <function __main__.create_multipliers.<locals>.<listcomp>.<lambda>>,\n",
              " <function __main__.create_multipliers.<locals>.<listcomp>.<lambda>>,\n",
              " <function __main__.create_multipliers.<locals>.<listcomp>.<lambda>>]"
            ]
          },
          "metadata": {},
          "execution_count": 32
        }
      ]
    },
    {
      "cell_type": "code",
      "metadata": {
        "colab": {
          "base_uri": "https://localhost:8080/"
        },
        "id": "thTn94GhsEwd",
        "outputId": "2bf1b49f-9e42-4df2-b21f-56aa6390e8c1"
      },
      "source": [
        "def create_multipliers():\n",
        "    return [lambda x : i * x for i in range(5)]\n",
        "\n",
        "for multiplier in create_multipliers():\n",
        "  print(multiplier(2))"
      ],
      "execution_count": null,
      "outputs": [
        {
          "output_type": "stream",
          "name": "stdout",
          "text": [
            "8\n",
            "8\n",
            "8\n",
            "8\n",
            "8\n"
          ]
        }
      ]
    },
    {
      "cell_type": "code",
      "metadata": {
        "id": "QPMvDVaL_5A-"
      },
      "source": [
        "from functools import partial\n",
        "from operator import mul\n",
        "\n",
        "def create_multipliers():\n",
        "    return [partial(mul, i) for i in range(5)]"
      ],
      "execution_count": null,
      "outputs": []
    },
    {
      "cell_type": "code",
      "metadata": {
        "colab": {
          "base_uri": "https://localhost:8080/"
        },
        "id": "RN_pefIy_6LP",
        "outputId": "864a9aed-11a7-4204-b328-836aaacec1c6"
      },
      "source": [
        "for multiplier in create_multipliers():\n",
        "  print(multiplier(2))"
      ],
      "execution_count": null,
      "outputs": [
        {
          "output_type": "stream",
          "name": "stdout",
          "text": [
            "0\n",
            "2\n",
            "4\n",
            "6\n",
            "8\n"
          ]
        }
      ]
    },
    {
      "cell_type": "markdown",
      "metadata": {
        "id": "U2payvx-HXFr"
      },
      "source": [
        "<H3>The Minion Game</H3>"
      ]
    },
    {
      "cell_type": "code",
      "metadata": {
        "colab": {
          "base_uri": "https://localhost:8080/"
        },
        "id": "e-enHiCm_-xA",
        "outputId": "2ee9a6a0-f493-4eb4-effa-fb2b7f452ecc"
      },
      "source": [
        "def minion_game(string):\n",
        "    # your code goes here\n",
        "    vowels = 'AEIOU'\n",
        "    Stuart_score, Kevin_score = 0, 0\n",
        "    length = len(string)\n",
        "    for start_idx in range(length):\n",
        "        score = length - start_idx\n",
        "        if string[start_idx] in vowels:\n",
        "            Kevin_score += score\n",
        "        else:\n",
        "            Stuart_score += score\n",
        "    if Stuart_score == Kevin_score:\n",
        "        print('Draw')\n",
        "    if Stuart_score > Kevin_score:\n",
        "        print('Stuart {}'.format(Stuart_score))\n",
        "    if Stuart_score < Kevin_score:\n",
        "        print('Kevin {}'.format(Kevin_score))\n",
        "if __name__ == '__main__':\n",
        "  s = input()\n",
        "  minion_game(s)"
      ],
      "execution_count": null,
      "outputs": [
        {
          "output_type": "stream",
          "name": "stdout",
          "text": [
            "BANANA\n",
            "Stuart 12\n"
          ]
        }
      ]
    },
    {
      "cell_type": "code",
      "metadata": {
        "colab": {
          "base_uri": "https://localhost:8080/"
        },
        "id": "mJdqkJPrJe7k",
        "outputId": "c01b960e-71e6-40cf-9f29-75e8c250f06e"
      },
      "source": [
        "def minion_game(string):\n",
        "    # your code goes here\n",
        "    res = [string[i: j] for i in range(len(string)) for j in range(i + 1, len(string) + 1)]\n",
        "    auxiliaryList = []\n",
        "    for word in res:\n",
        "      if word not in auxiliaryList:\n",
        "        auxiliaryList.append(word)\n",
        "    vowel = \"aeiouAEIOU\"\n",
        "    lis = []\n",
        "    lis1 = []\n",
        "    for i in auxiliaryList:\n",
        "      if i[0] in vowel:\n",
        "        lis.append(i)   \n",
        "      else:\n",
        "        lis1.append(i)\n",
        "    score = 0\n",
        "    for i in lis1:\n",
        "      for j in res:\n",
        "        if i == j:\n",
        "          score = score +1\n",
        "        \n",
        "    print(\"Stuart\",score)\n",
        "\n",
        "if __name__ == '__main__':\n",
        "  s = input()\n",
        "  minion_game(s)\n",
        "    #   score = score +1\n",
        "    # print(score)\n",
        "\n",
        "# score = 0\n",
        "# for occ in lis:\n",
        "#   if occ in test_str:\n",
        "#     score = score +1\n",
        "#     print(occ,score)\n",
        "\n",
        "\n",
        "\n",
        "\n",
        "    # print (\"1st letter is consonant: \",i) \n",
        "  # for j in vowels:\n",
        "  #   if i.startswith(j):\n",
        "  #     print(i)\n",
        "\n",
        "# vowel = \"aeiouAEIOU\"\n",
        "# if test_str[0] in vowel:\n",
        "#     print (\"1st letter is vowel: \",x)       \n",
        "# else:\n",
        "#     print (\"1st letter is consonant: \",x)   \n",
        "\n",
        "    "
      ],
      "execution_count": null,
      "outputs": [
        {
          "output_type": "stream",
          "name": "stdout",
          "text": [
            "Banana\n",
            "Stuart 12\n"
          ]
        }
      ]
    },
    {
      "cell_type": "code",
      "metadata": {
        "colab": {
          "base_uri": "https://localhost:8080/"
        },
        "id": "CbCwc-QnLLZ1",
        "outputId": "3825013a-20bb-46e5-b002-de8a266e14cc"
      },
      "source": [
        "n = int(input(\"Enter rows: \"))\n",
        "k,p,s = 0,n-1,1\n",
        "for i in range(n):\n",
        "  if k<=p:\n",
        "    print(\" \"*p + \"*\" * s + \" \" * (p-1), end = \" \")\n",
        "    print()\n",
        "    p = p-1\n",
        "    s = s+2"
      ],
      "execution_count": null,
      "outputs": [
        {
          "output_type": "stream",
          "name": "stdout",
          "text": [
            "Enter rows: 10\n",
            "         *         \n",
            "        ***        \n",
            "       *****       \n",
            "      *******      \n",
            "     *********     \n",
            "    ***********    \n",
            "   *************   \n",
            "  ***************  \n",
            " ***************** \n",
            "******************* \n"
          ]
        }
      ]
    },
    {
      "cell_type": "markdown",
      "metadata": {
        "id": "N38knXV4eR3Z"
      },
      "source": [
        "<H3> CRISTMAS TREE (NOT A HAKERRANK PROBLEM) </H3>"
      ]
    },
    {
      "cell_type": "code",
      "metadata": {
        "colab": {
          "base_uri": "https://localhost:8080/"
        },
        "id": "_A7fPH2lcccY",
        "outputId": "66790835-f8bb-4042-ce5d-b2afee20094e"
      },
      "source": [
        "# n = int(input(\"Enter rows: \"))\n",
        "\n",
        "def cristmas(n,k=0,s=1):\n",
        "  p = n-1\n",
        "  # k,p,s = 0,n-1,1\n",
        "  for i in range(n):\n",
        "    if k<=p:\n",
        "      print(\" \"*p + \"*\" * s + \" \" * (p-1), end = \" \")\n",
        "      print()\n",
        "      p = p-1\n",
        "      s = s+2\n",
        "\n",
        "cristmas(10,3)\n",
        "cristmas(9,3,4)\n",
        "cristmas(8,3,5)\n",
        "\n",
        "for i in range(5):\n",
        "  print(\"      \", \"*\"*5)"
      ],
      "execution_count": null,
      "outputs": [
        {
          "output_type": "stream",
          "name": "stdout",
          "text": [
            "         *         \n",
            "        ***        \n",
            "       *****       \n",
            "      *******      \n",
            "     *********     \n",
            "    ***********    \n",
            "   *************   \n",
            "        ****        \n",
            "       ******       \n",
            "      ********      \n",
            "     **********     \n",
            "    ************    \n",
            "   **************   \n",
            "       *****       \n",
            "      *******      \n",
            "     *********     \n",
            "    ***********    \n",
            "   *************   \n",
            "       *****\n",
            "       *****\n",
            "       *****\n",
            "       *****\n",
            "       *****\n"
          ]
        }
      ]
    },
    {
      "cell_type": "markdown",
      "metadata": {
        "id": "H-BWXting9IO"
      },
      "source": [
        "<H1> Alphabet Rangoli (Basic) </H3>\n"
      ]
    },
    {
      "cell_type": "code",
      "metadata": {
        "colab": {
          "base_uri": "https://localhost:8080/"
        },
        "id": "Txg3NDSIc8TB",
        "outputId": "040a48b0-34fa-4e7b-dff3-fde871435ecb"
      },
      "source": [
        "def print_rangoli(n):\n",
        "    w = (n-1) * 2 + ((n * 2) - 1)\n",
        "    #upper half\n",
        "    for i in range(1,n,1):\n",
        "        number_of_letter = (i*2) - 1\n",
        "        s = ''\n",
        "        letter_value = 97 + n - 1\n",
        "        for i in range(0,number_of_letter):\n",
        "            if(i != 0):\n",
        "                s += '-' \n",
        "            s += chr(letter_value) \n",
        "            if(i<(number_of_letter-1) / 2):\n",
        "                letter_value = letter_value - 1\n",
        "            else:\n",
        "                letter_value = letter_value + 1            \n",
        "        print(s.center(w,'-'))\n",
        "        \n",
        "        \n",
        "    #bottom half\n",
        "    for i in range(n,0,-1):\n",
        "        number_of_letter = (i*2) - 1\n",
        "        s = ''\n",
        "        letter_value = 97 + n - 1\n",
        "        for i in range(0,number_of_letter):\n",
        "            if(i != 0):\n",
        "                s += '-' \n",
        "            s += chr(letter_value) \n",
        "            if(i<(number_of_letter-1) / 2):\n",
        "                letter_value = letter_value - 1\n",
        "            else:\n",
        "                letter_value = letter_value + 1            \n",
        "        print(s.center(w,'-'))\n",
        "        # your code goes here\n",
        "\n",
        "if __name__ == '__main__':\n",
        "    n = int(input())\n",
        "    print_rangoli(n)"
      ],
      "execution_count": null,
      "outputs": [
        {
          "output_type": "stream",
          "name": "stdout",
          "text": [
            "26\n",
            "--------------------------------------------------z--------------------------------------------------\n",
            "------------------------------------------------z-y-z------------------------------------------------\n",
            "----------------------------------------------z-y-x-y-z----------------------------------------------\n",
            "--------------------------------------------z-y-x-w-x-y-z--------------------------------------------\n",
            "------------------------------------------z-y-x-w-v-w-x-y-z------------------------------------------\n",
            "----------------------------------------z-y-x-w-v-u-v-w-x-y-z----------------------------------------\n",
            "--------------------------------------z-y-x-w-v-u-t-u-v-w-x-y-z--------------------------------------\n",
            "------------------------------------z-y-x-w-v-u-t-s-t-u-v-w-x-y-z------------------------------------\n",
            "----------------------------------z-y-x-w-v-u-t-s-r-s-t-u-v-w-x-y-z----------------------------------\n",
            "--------------------------------z-y-x-w-v-u-t-s-r-q-r-s-t-u-v-w-x-y-z--------------------------------\n",
            "------------------------------z-y-x-w-v-u-t-s-r-q-p-q-r-s-t-u-v-w-x-y-z------------------------------\n",
            "----------------------------z-y-x-w-v-u-t-s-r-q-p-o-p-q-r-s-t-u-v-w-x-y-z----------------------------\n",
            "--------------------------z-y-x-w-v-u-t-s-r-q-p-o-n-o-p-q-r-s-t-u-v-w-x-y-z--------------------------\n",
            "------------------------z-y-x-w-v-u-t-s-r-q-p-o-n-m-n-o-p-q-r-s-t-u-v-w-x-y-z------------------------\n",
            "----------------------z-y-x-w-v-u-t-s-r-q-p-o-n-m-l-m-n-o-p-q-r-s-t-u-v-w-x-y-z----------------------\n",
            "--------------------z-y-x-w-v-u-t-s-r-q-p-o-n-m-l-k-l-m-n-o-p-q-r-s-t-u-v-w-x-y-z--------------------\n",
            "------------------z-y-x-w-v-u-t-s-r-q-p-o-n-m-l-k-j-k-l-m-n-o-p-q-r-s-t-u-v-w-x-y-z------------------\n",
            "----------------z-y-x-w-v-u-t-s-r-q-p-o-n-m-l-k-j-i-j-k-l-m-n-o-p-q-r-s-t-u-v-w-x-y-z----------------\n",
            "--------------z-y-x-w-v-u-t-s-r-q-p-o-n-m-l-k-j-i-h-i-j-k-l-m-n-o-p-q-r-s-t-u-v-w-x-y-z--------------\n",
            "------------z-y-x-w-v-u-t-s-r-q-p-o-n-m-l-k-j-i-h-g-h-i-j-k-l-m-n-o-p-q-r-s-t-u-v-w-x-y-z------------\n",
            "----------z-y-x-w-v-u-t-s-r-q-p-o-n-m-l-k-j-i-h-g-f-g-h-i-j-k-l-m-n-o-p-q-r-s-t-u-v-w-x-y-z----------\n",
            "--------z-y-x-w-v-u-t-s-r-q-p-o-n-m-l-k-j-i-h-g-f-e-f-g-h-i-j-k-l-m-n-o-p-q-r-s-t-u-v-w-x-y-z--------\n",
            "------z-y-x-w-v-u-t-s-r-q-p-o-n-m-l-k-j-i-h-g-f-e-d-e-f-g-h-i-j-k-l-m-n-o-p-q-r-s-t-u-v-w-x-y-z------\n",
            "----z-y-x-w-v-u-t-s-r-q-p-o-n-m-l-k-j-i-h-g-f-e-d-c-d-e-f-g-h-i-j-k-l-m-n-o-p-q-r-s-t-u-v-w-x-y-z----\n",
            "--z-y-x-w-v-u-t-s-r-q-p-o-n-m-l-k-j-i-h-g-f-e-d-c-b-c-d-e-f-g-h-i-j-k-l-m-n-o-p-q-r-s-t-u-v-w-x-y-z--\n",
            "z-y-x-w-v-u-t-s-r-q-p-o-n-m-l-k-j-i-h-g-f-e-d-c-b-a-b-c-d-e-f-g-h-i-j-k-l-m-n-o-p-q-r-s-t-u-v-w-x-y-z\n",
            "--z-y-x-w-v-u-t-s-r-q-p-o-n-m-l-k-j-i-h-g-f-e-d-c-b-c-d-e-f-g-h-i-j-k-l-m-n-o-p-q-r-s-t-u-v-w-x-y-z--\n",
            "----z-y-x-w-v-u-t-s-r-q-p-o-n-m-l-k-j-i-h-g-f-e-d-c-d-e-f-g-h-i-j-k-l-m-n-o-p-q-r-s-t-u-v-w-x-y-z----\n",
            "------z-y-x-w-v-u-t-s-r-q-p-o-n-m-l-k-j-i-h-g-f-e-d-e-f-g-h-i-j-k-l-m-n-o-p-q-r-s-t-u-v-w-x-y-z------\n",
            "--------z-y-x-w-v-u-t-s-r-q-p-o-n-m-l-k-j-i-h-g-f-e-f-g-h-i-j-k-l-m-n-o-p-q-r-s-t-u-v-w-x-y-z--------\n",
            "----------z-y-x-w-v-u-t-s-r-q-p-o-n-m-l-k-j-i-h-g-f-g-h-i-j-k-l-m-n-o-p-q-r-s-t-u-v-w-x-y-z----------\n",
            "------------z-y-x-w-v-u-t-s-r-q-p-o-n-m-l-k-j-i-h-g-h-i-j-k-l-m-n-o-p-q-r-s-t-u-v-w-x-y-z------------\n",
            "--------------z-y-x-w-v-u-t-s-r-q-p-o-n-m-l-k-j-i-h-i-j-k-l-m-n-o-p-q-r-s-t-u-v-w-x-y-z--------------\n",
            "----------------z-y-x-w-v-u-t-s-r-q-p-o-n-m-l-k-j-i-j-k-l-m-n-o-p-q-r-s-t-u-v-w-x-y-z----------------\n",
            "------------------z-y-x-w-v-u-t-s-r-q-p-o-n-m-l-k-j-k-l-m-n-o-p-q-r-s-t-u-v-w-x-y-z------------------\n",
            "--------------------z-y-x-w-v-u-t-s-r-q-p-o-n-m-l-k-l-m-n-o-p-q-r-s-t-u-v-w-x-y-z--------------------\n",
            "----------------------z-y-x-w-v-u-t-s-r-q-p-o-n-m-l-m-n-o-p-q-r-s-t-u-v-w-x-y-z----------------------\n",
            "------------------------z-y-x-w-v-u-t-s-r-q-p-o-n-m-n-o-p-q-r-s-t-u-v-w-x-y-z------------------------\n",
            "--------------------------z-y-x-w-v-u-t-s-r-q-p-o-n-o-p-q-r-s-t-u-v-w-x-y-z--------------------------\n",
            "----------------------------z-y-x-w-v-u-t-s-r-q-p-o-p-q-r-s-t-u-v-w-x-y-z----------------------------\n",
            "------------------------------z-y-x-w-v-u-t-s-r-q-p-q-r-s-t-u-v-w-x-y-z------------------------------\n",
            "--------------------------------z-y-x-w-v-u-t-s-r-q-r-s-t-u-v-w-x-y-z--------------------------------\n",
            "----------------------------------z-y-x-w-v-u-t-s-r-s-t-u-v-w-x-y-z----------------------------------\n",
            "------------------------------------z-y-x-w-v-u-t-s-t-u-v-w-x-y-z------------------------------------\n",
            "--------------------------------------z-y-x-w-v-u-t-u-v-w-x-y-z--------------------------------------\n",
            "----------------------------------------z-y-x-w-v-u-v-w-x-y-z----------------------------------------\n",
            "------------------------------------------z-y-x-w-v-w-x-y-z------------------------------------------\n",
            "--------------------------------------------z-y-x-w-x-y-z--------------------------------------------\n",
            "----------------------------------------------z-y-x-y-z----------------------------------------------\n",
            "------------------------------------------------z-y-z------------------------------------------------\n",
            "--------------------------------------------------z--------------------------------------------------\n"
          ]
        }
      ]
    },
    {
      "cell_type": "markdown",
      "metadata": {
        "id": "44FWnlZSXF0i"
      },
      "source": [
        "<H1> PRACTICE DAY 2 </H1>"
      ]
    },
    {
      "cell_type": "code",
      "metadata": {
        "id": "IgccGcFghCHr",
        "colab": {
          "base_uri": "https://localhost:8080/"
        },
        "outputId": "9465c7b4-bacd-4b8a-ad7b-8e8b33f19ab4"
      },
      "source": [
        "print('C:\\some\\name')  # here \\n means newline!\n",
        "print(r'C:\\some\\name')  # note the r before the quote"
      ],
      "execution_count": 1,
      "outputs": [
        {
          "output_type": "stream",
          "name": "stdout",
          "text": [
            "C:\\some\n",
            "ame\n",
            "C:\\some\\name\n"
          ]
        }
      ]
    },
    {
      "cell_type": "markdown",
      "metadata": {
        "id": "S9r5UTSYc7gY"
      },
      "source": [
        "<H3> Zip </H3>"
      ]
    },
    {
      "cell_type": "code",
      "metadata": {
        "colab": {
          "base_uri": "https://localhost:8080/"
        },
        "id": "TXZZEYU3YKnh",
        "outputId": "b2953453-f3e9-436a-9712-83b46fbeca38"
      },
      "source": [
        "name = [ \"Manjeet\", \"Nikhil\", \"Shambhavi\", \"Astha\" ]\n",
        "roll_no = [ 4, 1, 3, 2 ]\n",
        "\n",
        "# using zip() to map values\n",
        "mapped = zip(name, roll_no)\n",
        "\n",
        "print(set(mapped))\n"
      ],
      "execution_count": 2,
      "outputs": [
        {
          "output_type": "stream",
          "name": "stdout",
          "text": [
            "{('Nikhil', 1), ('Manjeet', 4), ('Astha', 2), ('Shambhavi', 3)}\n"
          ]
        }
      ]
    },
    {
      "cell_type": "code",
      "metadata": {
        "colab": {
          "base_uri": "https://localhost:8080/"
        },
        "id": "XV4extBIdH6N",
        "outputId": "e14a528c-3d82-4107-ada2-e99bb64f4298"
      },
      "source": [
        "names = ['Mukesh', 'Roni', 'Chari']\n",
        "ages = [24, 50, 18]\n",
        "\n",
        "for i, (name, age) in enumerate(zip(names, ages)):\n",
        "\tprint(i, name, age)\n"
      ],
      "execution_count": 3,
      "outputs": [
        {
          "output_type": "stream",
          "name": "stdout",
          "text": [
            "0 Mukesh 24\n",
            "1 Roni 50\n",
            "2 Chari 18\n"
          ]
        }
      ]
    },
    {
      "cell_type": "code",
      "metadata": {
        "colab": {
          "base_uri": "https://localhost:8080/"
        },
        "id": "li8N66qpdRq4",
        "outputId": "e5a23258-0fd6-44b8-a183-b27416f44298"
      },
      "source": [
        "stocks = ['reliance', 'infosys', 'tcs']\n",
        "prices = [2175, 1127, 2750]\n",
        "\n",
        "new_dict = {stocks: prices for stocks,\n",
        "\t\t\tprices in zip(stocks, prices)}\n",
        "print(new_dict)\n"
      ],
      "execution_count": 4,
      "outputs": [
        {
          "output_type": "stream",
          "name": "stdout",
          "text": [
            "{'reliance': 2175, 'infosys': 1127, 'tcs': 2750}\n"
          ]
        }
      ]
    },
    {
      "cell_type": "code",
      "metadata": {
        "colab": {
          "base_uri": "https://localhost:8080/"
        },
        "id": "UzT2n_CCddHc",
        "outputId": "cb060ae6-de00-4f56-94ef-68def5421b11"
      },
      "source": [
        "# Python code to demonstrate the working of\n",
        "# unzip\n",
        "\n",
        "# initializing lists\n",
        "name = [\"Manjeet\", \"Nikhil\", \"Shambhavi\", \"Astha\"]\n",
        "roll_no = [4, 1, 3, 2]\n",
        "marks = [40, 50, 60, 70]\n",
        "\n",
        "# using zip() to map values\n",
        "mapped = zip(name, roll_no, marks)\n",
        "\n",
        "# converting values to print as list\n",
        "mapped = list(mapped)\n",
        "\n",
        "# printing resultant values\n",
        "print(\"The zipped result is : \", end=\"\")\n",
        "print(mapped)\n",
        "\n",
        "print(\"\\n\")\n",
        "\n",
        "# unzipping values\n",
        "namz, roll_noz, marksz = zip(*mapped)\n",
        "\n",
        "print(\"The unzipped result: \\n\", end=\"\")\n",
        "\n",
        "# printing initial lists\n",
        "print(\"The name list is : \", end=\"\")\n",
        "print(namz)\n",
        "\n",
        "print(\"The roll_no list is : \", end=\"\")\n",
        "print(roll_noz)\n",
        "\n",
        "print(\"The marks list is : \", end=\"\")\n",
        "print(marksz)\n"
      ],
      "execution_count": 5,
      "outputs": [
        {
          "output_type": "stream",
          "name": "stdout",
          "text": [
            "The zipped result is : [('Manjeet', 4, 40), ('Nikhil', 1, 50), ('Shambhavi', 3, 60), ('Astha', 2, 70)]\n",
            "\n",
            "\n",
            "The unzipped result: \n",
            "The name list is : ('Manjeet', 'Nikhil', 'Shambhavi', 'Astha')\n",
            "The roll_no list is : (4, 1, 3, 2)\n",
            "The marks list is : (40, 50, 60, 70)\n"
          ]
        }
      ]
    },
    {
      "cell_type": "code",
      "metadata": {
        "colab": {
          "base_uri": "https://localhost:8080/"
        },
        "id": "4hWy7_Zpdmz6",
        "outputId": "43397dfa-e064-46e6-ecdb-51478c7ad739"
      },
      "source": [
        "# Python code to demonstrate the application of\n",
        "# zip()\n",
        "\n",
        "# initializing list of players.\n",
        "players = [\"Sachin\", \"Sehwag\", \"Gambhir\", \"Dravid\", \"Raina\"]\n",
        "\n",
        "# initializing their scores\n",
        "scores = [100, 15, 17, 28, 43]\n",
        "\n",
        "# printing players and scores.\n",
        "for pl, sc in zip(players, scores):\n",
        "\tprint(\"Player : %s\t Score : %d\" % (pl, sc))\n"
      ],
      "execution_count": 6,
      "outputs": [
        {
          "output_type": "stream",
          "name": "stdout",
          "text": [
            "Player : Sachin\t Score : 100\n",
            "Player : Sehwag\t Score : 15\n",
            "Player : Gambhir\t Score : 17\n",
            "Player : Dravid\t Score : 28\n",
            "Player : Raina\t Score : 43\n"
          ]
        }
      ]
    },
    {
      "cell_type": "markdown",
      "metadata": {
        "id": "yHITwXgQeKrH"
      },
      "source": [
        "<H3> Enumerate </H3>"
      ]
    },
    {
      "cell_type": "code",
      "metadata": {
        "colab": {
          "base_uri": "https://localhost:8080/"
        },
        "id": "iaoFjxTAdxbd",
        "outputId": "7eddad78-549d-42a6-fb77-e124c9191204"
      },
      "source": [
        "#python\n",
        "# Python program to illustrate\n",
        "# enumerate function\n",
        "l1 = [\"eat\",\"sleep\",\"repeat\"]\n",
        "s1 = \"geek\"\n",
        "\n",
        "# creating enumerate objects\n",
        "obj1 = enumerate(l1)\n",
        "obj2 = enumerate(s1)\n",
        "\n",
        "print (\"Return type:\",type(obj1))\n",
        "print (list(enumerate(l1)))\n",
        "\n",
        "# changing start index to 2 from 0\n",
        "print (list(enumerate(s1,2)))\n"
      ],
      "execution_count": 7,
      "outputs": [
        {
          "output_type": "stream",
          "name": "stdout",
          "text": [
            "Return type: <class 'enumerate'>\n",
            "[(0, 'eat'), (1, 'sleep'), (2, 'repeat')]\n",
            "[(2, 'g'), (3, 'e'), (4, 'e'), (5, 'k')]\n"
          ]
        }
      ]
    },
    {
      "cell_type": "code",
      "metadata": {
        "colab": {
          "base_uri": "https://localhost:8080/"
        },
        "id": "UalhENXJezaj",
        "outputId": "d1ee25b3-0374-400b-b3db-8b1b17220797"
      },
      "source": [
        "# Python program to illustrate\n",
        "# enumerate function in loops\n",
        "l1 = [\"eat\",\"sleep\",\"repeat\"]\n",
        "\n",
        "# printing the tuples in object directly\n",
        "for ele in enumerate(l1):\n",
        "\tprint (ele)\n",
        "# print\n",
        "# changing index and printing separately\n",
        "for count,ele in enumerate(l1,100):\n",
        "\tprint (count,ele)\n",
        "\n",
        "#getting desired output from tuple\n",
        "for count,ele in enumerate(l1):\n",
        "  print(count)\n",
        "  print(ele)\n"
      ],
      "execution_count": 10,
      "outputs": [
        {
          "output_type": "stream",
          "name": "stdout",
          "text": [
            "(0, 'eat')\n",
            "(1, 'sleep')\n",
            "(2, 'repeat')\n",
            "100 eat\n",
            "101 sleep\n",
            "102 repeat\n",
            "0\n",
            "eat\n",
            "1\n",
            "sleep\n",
            "2\n",
            "repeat\n"
          ]
        }
      ]
    },
    {
      "cell_type": "markdown",
      "metadata": {
        "id": "fd91V8VjfrsF"
      },
      "source": [
        "<H3> Lambda </H3>"
      ]
    },
    {
      "cell_type": "code",
      "metadata": {
        "colab": {
          "base_uri": "https://localhost:8080/"
        },
        "id": "jdOqZaEZfSg_",
        "outputId": "2e86b983-bf64-417c-d48c-3a493252f9ac"
      },
      "source": [
        "# Python program to demonstrate\n",
        "# lambda functions\n",
        "\n",
        "\n",
        "string ='Learning Python'\n",
        "\n",
        "# lambda returns a function object\n",
        "print(lambda string : string)\n"
      ],
      "execution_count": 12,
      "outputs": [
        {
          "output_type": "stream",
          "name": "stdout",
          "text": [
            "<function <lambda> at 0x7fb24bfa0e60>\n"
          ]
        }
      ]
    },
    {
      "cell_type": "code",
      "metadata": {
        "colab": {
          "base_uri": "https://localhost:8080/"
        },
        "id": "fRw4wlK2fven",
        "outputId": "3fd0711f-0404-49b7-f140-67eeb5425321"
      },
      "source": [
        "# Python code to illustrate cube of a number\n",
        "# showing difference between def() and lambda().\n",
        "def cube(y):\n",
        "\treturn y*y*y\n",
        "\n",
        "lambda_cube = lambda y: y*y*y\n",
        "\n",
        "# using the normally\n",
        "# defined function\n",
        "print(cube(5))\n",
        "\n",
        "# using the lambda function\n",
        "print(lambda_cube(5))\n"
      ],
      "execution_count": 13,
      "outputs": [
        {
          "output_type": "stream",
          "name": "stdout",
          "text": [
            "125\n",
            "125\n"
          ]
        }
      ]
    },
    {
      "cell_type": "code",
      "metadata": {
        "colab": {
          "base_uri": "https://localhost:8080/"
        },
        "id": "S_WELRopgd3o",
        "outputId": "4bd3ef7c-d711-4941-a7f5-bed8d50a7ee2"
      },
      "source": [
        "tables = [lambda x=x: x*10 for x in range(1, 11)]\n",
        "\n",
        "for table in tables:\n",
        "\tprint(table())\n"
      ],
      "execution_count": 14,
      "outputs": [
        {
          "output_type": "stream",
          "name": "stdout",
          "text": [
            "10\n",
            "20\n",
            "30\n",
            "40\n",
            "50\n",
            "60\n",
            "70\n",
            "80\n",
            "90\n",
            "100\n"
          ]
        }
      ]
    },
    {
      "cell_type": "code",
      "metadata": {
        "colab": {
          "base_uri": "https://localhost:8080/"
        },
        "id": "s-_iMvOfgocZ",
        "outputId": "10d478f7-baec-43fb-cca6-cd9bf69deda0"
      },
      "source": [
        "# Example of lambda function using if-else\n",
        "Max = lambda a, b : a if(a > b) else b\n",
        "\n",
        "print(Max(1, 2))\n"
      ],
      "execution_count": 15,
      "outputs": [
        {
          "output_type": "stream",
          "name": "stdout",
          "text": [
            "2\n"
          ]
        }
      ]
    },
    {
      "cell_type": "code",
      "metadata": {
        "colab": {
          "base_uri": "https://localhost:8080/"
        },
        "id": "CZMuCLdog0P-",
        "outputId": "7c632f31-2f3d-406b-dae2-103841f829de"
      },
      "source": [
        "List = [[2,3,4],[1, 4, 16, 64],[3, 6, 9, 12]]\n",
        "\n",
        "# Sort each sublist\n",
        "sortList = lambda x: (sorted(i) for i in x)\n",
        "# print(sortList(List))\n",
        "\n",
        "# Get the second largest element\n",
        "secondLargest = lambda x, f : [y[len(y)-2] for y in f(x)]\n",
        "res = secondLargest(List, sortList)\n",
        "\n",
        "print(res)\n"
      ],
      "execution_count": 18,
      "outputs": [
        {
          "output_type": "stream",
          "name": "stdout",
          "text": [
            "[3, 16, 9]\n"
          ]
        }
      ]
    },
    {
      "cell_type": "markdown",
      "metadata": {
        "id": "LzImSn2MjxUl"
      },
      "source": [
        "<H3> Filter </H3>"
      ]
    },
    {
      "cell_type": "code",
      "metadata": {
        "colab": {
          "base_uri": "https://localhost:8080/"
        },
        "id": "ISWpBUKnhVIB",
        "outputId": "d91a048b-603d-4355-de1f-2a21b0c1e7b2"
      },
      "source": [
        "# function that filters vowels\n",
        "def fun(variable):\n",
        "  # print(variable)\n",
        "\tletters = ['a', 'e', 'i', 'o', 'u']\n",
        "    \n",
        "\tif (variable in letters):\n",
        "\t\treturn True\n",
        "\telse:\n",
        "\t\treturn False\n",
        "  \n",
        "\n",
        "\n",
        "# sequence\n",
        "sequence = ['g', 'e', 'e', 'j', 'k', 's', 'p', 'r']\n",
        "\n",
        "# using filter function\n",
        "filtered = filter(fun, sequence)\n",
        "# print(filtered)\n",
        "\n",
        "print('The filtered letters are:')\n",
        "for s in filtered:\n",
        "\tprint(s)\n"
      ],
      "execution_count": 26,
      "outputs": [
        {
          "output_type": "stream",
          "name": "stdout",
          "text": [
            "The filtered letters are:\n",
            "e\n",
            "e\n"
          ]
        }
      ]
    },
    {
      "cell_type": "code",
      "metadata": {
        "colab": {
          "base_uri": "https://localhost:8080/"
        },
        "id": "of073ZuxkMkH",
        "outputId": "2d58620f-9d47-487a-83bd-9648c2a150c0"
      },
      "source": [
        "# a list contains both even and odd numbers.\n",
        "seq = [0, 1, 2, 3, 5, 8, 13]\n",
        "\n",
        "# result contains odd numbers of the list\n",
        "result = filter(lambda x: x % 2 != 0, seq)\n",
        "print(list(result))\n",
        "\n",
        "# result contains even numbers of the list\n",
        "result = filter(lambda x: x % 2 == 0, seq)\n",
        "print(list(result))\n"
      ],
      "execution_count": 27,
      "outputs": [
        {
          "output_type": "stream",
          "name": "stdout",
          "text": [
            "[1, 3, 5, 13]\n",
            "[0, 2, 8]\n"
          ]
        }
      ]
    },
    {
      "cell_type": "markdown",
      "metadata": {
        "id": "WRhzl9b3mEVA"
      },
      "source": [
        "<H3> Map Function </H3>"
      ]
    },
    {
      "cell_type": "code",
      "metadata": {
        "colab": {
          "base_uri": "https://localhost:8080/"
        },
        "id": "h31MtE1IlFgG",
        "outputId": "d2db61c4-0701-4d2e-99fb-1f04e126b11b"
      },
      "source": [
        "# Python program to demonstrate working\n",
        "# of map.\n",
        "\n",
        "# Return double of n\n",
        "def addition(n):\n",
        "  # print(n+n)\n",
        "\treturn n + n\n",
        "\n",
        "# We double all numbers using map()\n",
        "numbers = (1, 2, 3, 4)\n",
        "result = map(addition, numbers)\n",
        "print(list(result))\n"
      ],
      "execution_count": 30,
      "outputs": [
        {
          "output_type": "stream",
          "name": "stdout",
          "text": [
            "[2, 4, 6, 8]\n"
          ]
        }
      ]
    },
    {
      "cell_type": "code",
      "metadata": {
        "colab": {
          "base_uri": "https://localhost:8080/"
        },
        "id": "XQWN_htYmLTS",
        "outputId": "ef5accce-5016-4219-e847-af6418b312be"
      },
      "source": [
        "# Double all numbers using map and lambda\n",
        "\n",
        "numbers = (1, 2, 3, 4)\n",
        "result = map(lambda x: x + x, numbers)\n",
        "print(list(result))\n"
      ],
      "execution_count": 31,
      "outputs": [
        {
          "output_type": "stream",
          "name": "stdout",
          "text": [
            "[2, 4, 6, 8]\n"
          ]
        }
      ]
    },
    {
      "cell_type": "code",
      "metadata": {
        "colab": {
          "base_uri": "https://localhost:8080/"
        },
        "id": "5jHZkl82mZZV",
        "outputId": "9fa31594-1ff9-4cec-827a-b7f2a5245401"
      },
      "source": [
        "# Add two lists using map and lambda\n",
        "\n",
        "numbers1 = [1, 2, 3]\n",
        "numbers2 = [4, 5, 6]\n",
        "\n",
        "result = map(lambda x, y: x + y, numbers1, numbers2)\n",
        "print(list(result))\n"
      ],
      "execution_count": 32,
      "outputs": [
        {
          "output_type": "stream",
          "name": "stdout",
          "text": [
            "[5, 7, 9]\n"
          ]
        }
      ]
    },
    {
      "cell_type": "markdown",
      "metadata": {
        "id": "jTKVNO65nbPo"
      },
      "source": [
        "<H3> Reduce </H3>"
      ]
    },
    {
      "cell_type": "code",
      "metadata": {
        "colab": {
          "base_uri": "https://localhost:8080/"
        },
        "id": "OZQDL7gRmfjA",
        "outputId": "aface15e-5b0b-496e-b6fc-cdfcfcc4a051"
      },
      "source": [
        "# python code to demonstrate working of reduce()\n",
        "\n",
        "# importing functools for reduce()\n",
        "import functools\n",
        "\n",
        "# initializing list\n",
        "lis = [1, 3, 5, 6, 2, ]\n",
        "# reduce(lambda x, y: x+y, [1, 2, 3, 4, 5]) calculates ((((1+2)+3)+4)+5)\n",
        "# using reduce to compute sum of list\n",
        "print(\"The sum of the list elements is : \", end=\"\")\n",
        "print(functools.reduce(lambda a, b: a+b, lis))\n",
        "\n",
        "# using reduce to compute maximum element from list\n",
        "print(\"The maximum element of the list is : \", end=\"\")\n",
        "print(functools.reduce(lambda a, b: a if a > b else b, lis))\n"
      ],
      "execution_count": 33,
      "outputs": [
        {
          "output_type": "stream",
          "name": "stdout",
          "text": [
            "The sum of the list elements is : 17\n",
            "The maximum element of the list is : 6\n"
          ]
        }
      ]
    },
    {
      "cell_type": "code",
      "metadata": {
        "colab": {
          "base_uri": "https://localhost:8080/"
        },
        "id": "Qci57aPAnsLG",
        "outputId": "41c48f1d-9b9e-410e-ea0e-530ba220996c"
      },
      "source": [
        "# python code to demonstrate working of reduce()\n",
        "# using operator functions\n",
        "\n",
        "# importing functools for reduce()\n",
        "import functools\n",
        "\n",
        "# importing operator for operator functions\n",
        "import operator\n",
        "\n",
        "# initializing list\n",
        "lis = [1, 3, 5, 6, 2, ]\n",
        "\n",
        "# using reduce to compute sum of list\n",
        "# using operator functions\n",
        "print(\"The sum of the list elements is : \", end=\"\")\n",
        "print(functools.reduce(operator.add, lis))\n",
        "\n",
        "# using reduce to compute product\n",
        "# using operator functions\n",
        "print(\"The product of list elements is : \", end=\"\")\n",
        "print(functools.reduce(operator.mul, lis))\n",
        "\n",
        "# using reduce to concatenate string\n",
        "print(\"The concatenated product is : \", end=\"\")\n",
        "print(functools.reduce(operator.add, [\"geeks\", \"for\", \"geeks\"]))\n"
      ],
      "execution_count": 34,
      "outputs": [
        {
          "output_type": "stream",
          "name": "stdout",
          "text": [
            "The sum of the list elements is : 17\n",
            "The product of list elements is : 180\n",
            "The concatenated product is : geeksforgeeks\n"
          ]
        }
      ]
    },
    {
      "cell_type": "code",
      "metadata": {
        "colab": {
          "base_uri": "https://localhost:8080/"
        },
        "id": "DLp3f0nJn6fk",
        "outputId": "796bc69b-702b-4337-f7ff-19d30cb73109"
      },
      "source": [
        "# python code to demonstrate summation\n",
        "# using reduce() and accumulate()\n",
        "\n",
        "# importing itertools for accumulate()\n",
        "import itertools\n",
        "\n",
        "# importing functools for reduce()\n",
        "import functools\n",
        "\n",
        "# initializing list\n",
        "lis = [1, 3, 4, 10, 4]\n",
        "\n",
        "# printing summation using accumulate()\n",
        "print(\"The summation of list using accumulate is :\", end=\"\")\n",
        "print(list(itertools.accumulate(lis, lambda x, y: x+y)))\n",
        "\n",
        "# printing summation using reduce()\n",
        "print(\"The summation of list using reduce is :\", end=\"\")\n",
        "print(functools.reduce(lambda x, y: x+y, lis))\n"
      ],
      "execution_count": 35,
      "outputs": [
        {
          "output_type": "stream",
          "name": "stdout",
          "text": [
            "The summation of list using accumulate is :[1, 4, 8, 18, 22]\n",
            "The summation of list using reduce is :22\n"
          ]
        }
      ]
    },
    {
      "cell_type": "markdown",
      "metadata": {
        "id": "1Ugdpa2DqTbO"
      },
      "source": [
        "<H3> Assert </H3>"
      ]
    },
    {
      "cell_type": "markdown",
      "metadata": {
        "id": "3zs1K56cqEOA"
      },
      "source": [
        "![Assertion.png](data:image/png;base64,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)"
      ]
    },
    {
      "cell_type": "code",
      "metadata": {
        "colab": {
          "base_uri": "https://localhost:8080/",
          "height": 237
        },
        "id": "52YyAKgNoEcR",
        "outputId": "45d3461f-2a91-4fc9-a965-efc9bb2731b5"
      },
      "source": [
        "# Python 3 code to demonstrate\n",
        "# working of assert\n",
        "\n",
        "# initializing number\n",
        "a = 4\n",
        "b = 0\n",
        "\n",
        "# using assert to check for 0\n",
        "print(\"The value of a / b is : \")\n",
        "assert b != 0\n",
        "print(a / b)\n"
      ],
      "execution_count": 36,
      "outputs": [
        {
          "output_type": "stream",
          "name": "stdout",
          "text": [
            "The value of a / b is : \n"
          ]
        },
        {
          "output_type": "error",
          "ename": "AssertionError",
          "evalue": "ignored",
          "traceback": [
            "\u001b[0;31m---------------------------------------------------------------------------\u001b[0m",
            "\u001b[0;31mAssertionError\u001b[0m                            Traceback (most recent call last)",
            "\u001b[0;32m<ipython-input-36-165a78cb3e71>\u001b[0m in \u001b[0;36m<module>\u001b[0;34m()\u001b[0m\n\u001b[1;32m      8\u001b[0m \u001b[0;31m# using assert to check for 0\u001b[0m\u001b[0;34m\u001b[0m\u001b[0;34m\u001b[0m\u001b[0;34m\u001b[0m\u001b[0m\n\u001b[1;32m      9\u001b[0m \u001b[0mprint\u001b[0m\u001b[0;34m(\u001b[0m\u001b[0;34m\"The value of a / b is : \"\u001b[0m\u001b[0;34m)\u001b[0m\u001b[0;34m\u001b[0m\u001b[0;34m\u001b[0m\u001b[0m\n\u001b[0;32m---> 10\u001b[0;31m \u001b[0;32massert\u001b[0m \u001b[0mb\u001b[0m \u001b[0;34m!=\u001b[0m \u001b[0;36m0\u001b[0m\u001b[0;34m\u001b[0m\u001b[0;34m\u001b[0m\u001b[0m\n\u001b[0m\u001b[1;32m     11\u001b[0m \u001b[0mprint\u001b[0m\u001b[0;34m(\u001b[0m\u001b[0ma\u001b[0m \u001b[0;34m/\u001b[0m \u001b[0mb\u001b[0m\u001b[0;34m)\u001b[0m\u001b[0;34m\u001b[0m\u001b[0;34m\u001b[0m\u001b[0m\n",
            "\u001b[0;31mAssertionError\u001b[0m: "
          ]
        }
      ]
    },
    {
      "cell_type": "code",
      "metadata": {
        "colab": {
          "base_uri": "https://localhost:8080/",
          "height": 289
        },
        "id": "5zUpyIazqm8J",
        "outputId": "81490599-0831-48d5-ea8d-ff42e229e5da"
      },
      "source": [
        "# Python 3 code to demonstrate\n",
        "# working of assert\n",
        "# Application\n",
        "\n",
        "# initializing list of foods temperatures\n",
        "batch = [ 40, 26, 39, 30, 25, 21]\n",
        "\n",
        "# initializing cut temperature\n",
        "cut = 26\n",
        "\n",
        "# using assert to check for temperature greater than cut\n",
        "for i in batch:\n",
        "\tassert i >= 26, \"Batch is Rejected\"\n",
        "\tprint (str(i) + \" is O.K\" )\n"
      ],
      "execution_count": 40,
      "outputs": [
        {
          "output_type": "stream",
          "name": "stdout",
          "text": [
            "40 is O.K\n",
            "26 is O.K\n",
            "39 is O.K\n",
            "30 is O.K\n"
          ]
        },
        {
          "output_type": "error",
          "ename": "AssertionError",
          "evalue": "ignored",
          "traceback": [
            "\u001b[0;31m---------------------------------------------------------------------------\u001b[0m",
            "\u001b[0;31mAssertionError\u001b[0m                            Traceback (most recent call last)",
            "\u001b[0;32m<ipython-input-40-2b30ad80cc8b>\u001b[0m in \u001b[0;36m<module>\u001b[0;34m()\u001b[0m\n\u001b[1;32m     11\u001b[0m \u001b[0;31m# using assert to check for temperature greater than cut\u001b[0m\u001b[0;34m\u001b[0m\u001b[0;34m\u001b[0m\u001b[0;34m\u001b[0m\u001b[0m\n\u001b[1;32m     12\u001b[0m \u001b[0;32mfor\u001b[0m \u001b[0mi\u001b[0m \u001b[0;32min\u001b[0m \u001b[0mbatch\u001b[0m\u001b[0;34m:\u001b[0m\u001b[0;34m\u001b[0m\u001b[0;34m\u001b[0m\u001b[0m\n\u001b[0;32m---> 13\u001b[0;31m         \u001b[0;32massert\u001b[0m \u001b[0mi\u001b[0m \u001b[0;34m>=\u001b[0m \u001b[0;36m26\u001b[0m\u001b[0;34m,\u001b[0m \u001b[0;34m\"Batch is Rejected\"\u001b[0m\u001b[0;34m\u001b[0m\u001b[0;34m\u001b[0m\u001b[0m\n\u001b[0m\u001b[1;32m     14\u001b[0m         \u001b[0mprint\u001b[0m \u001b[0;34m(\u001b[0m\u001b[0mstr\u001b[0m\u001b[0;34m(\u001b[0m\u001b[0mi\u001b[0m\u001b[0;34m)\u001b[0m \u001b[0;34m+\u001b[0m \u001b[0;34m\" is O.K\"\u001b[0m \u001b[0;34m)\u001b[0m\u001b[0;34m\u001b[0m\u001b[0;34m\u001b[0m\u001b[0m\n",
            "\u001b[0;31mAssertionError\u001b[0m: Batch is Rejected"
          ]
        }
      ]
    },
    {
      "cell_type": "markdown",
      "metadata": {
        "id": "mYnG4f8drQ_2"
      },
      "source": [
        "<H3> Yield </H3>"
      ]
    },
    {
      "cell_type": "code",
      "metadata": {
        "colab": {
          "base_uri": "https://localhost:8080/"
        },
        "id": "26xCB8SorQnZ",
        "outputId": "87f1eb60-7008-42c0-ca20-4ab0121d11a1"
      },
      "source": [
        "# A Simple Python program to demonstrate working\n",
        "# of yield\n",
        "\n",
        "# A generator function that yields 1 for the first time,\n",
        "# 2 second time and 3 third time\n",
        "def simpleGeneratorFun():\n",
        "\tyield 1\n",
        "\tyield 2\n",
        "\tyield 3\n",
        "\n",
        "# Driver code to check above generator function\n",
        "for value in simpleGeneratorFun():\n",
        "\tprint(value)\n"
      ],
      "execution_count": 41,
      "outputs": [
        {
          "output_type": "stream",
          "name": "stdout",
          "text": [
            "1\n",
            "2\n",
            "3\n"
          ]
        }
      ]
    },
    {
      "cell_type": "code",
      "metadata": {
        "colab": {
          "base_uri": "https://localhost:8080/"
        },
        "id": "otoGVtaDq7hd",
        "outputId": "494d0758-3949-4ecd-a749-8422c1ebf8b7"
      },
      "source": [
        "# A Python program to generate squares from 1\n",
        "# to 100 using yield and therefore generator\n",
        "\n",
        "# An infinite generator function that prints\n",
        "# next square number. It starts with 1\n",
        "def nextSquare():\n",
        "\ti = 1\n",
        "\n",
        "\t# An Infinite loop to generate squares\n",
        "\twhile True:\n",
        "\t\tyield i*i\t\t\t\t\n",
        "\t\ti += 1 # Next execution resumes\n",
        "\t\t\t\t# from this point\t\n",
        "\n",
        "# Driver code to test above generator\n",
        "# function\n",
        "for num in nextSquare():\n",
        "  # print(num)\n",
        "\tif num > 100:\n",
        "\t\tbreak\t\n",
        "\tprint(num)\n"
      ],
      "execution_count": 1,
      "outputs": [
        {
          "output_type": "stream",
          "name": "stdout",
          "text": [
            "1\n",
            "4\n",
            "9\n",
            "16\n",
            "25\n",
            "36\n",
            "49\n",
            "64\n",
            "81\n",
            "100\n"
          ]
        }
      ]
    },
    {
      "cell_type": "markdown",
      "metadata": {
        "id": "KZnvUHenvPcF"
      },
      "source": [
        "<H3> Iterables </H3>"
      ]
    },
    {
      "cell_type": "code",
      "metadata": {
        "colab": {
          "base_uri": "https://localhost:8080/"
        },
        "id": "5rf2cRvDtwTA",
        "outputId": "f20841b6-5759-4113-c8a8-0d1693892e7b"
      },
      "source": [
        "# myList is an iterable\n",
        "mylist = [1, 2, 3]\n",
        "for i in mylist: \n",
        "  print(i)"
      ],
      "execution_count": 2,
      "outputs": [
        {
          "output_type": "stream",
          "name": "stdout",
          "text": [
            "1\n",
            "2\n",
            "3\n"
          ]
        }
      ]
    },
    {
      "cell_type": "markdown",
      "metadata": {
        "id": "mqXinc_FxQ9A"
      },
      "source": [
        "<H3>Generators\n",
        "\n",
        "Generators are iterators, a kind of iterable you can only iterate over once. Generators do not store all the values in memory, they generate the values on the fly:\n",
        "BUT, you cannot perform for i in mygenerator a second time since generators can only be used once: they calculate 0, then forget about it and calculate 1, and end calculating 4, one by one.</h3>"
      ]
    },
    {
      "cell_type": "code",
      "metadata": {
        "colab": {
          "base_uri": "https://localhost:8080/"
        },
        "id": "kIq7_beYvbwq",
        "outputId": "9a252332-6ee6-4948-b0e5-d490d2e908a4"
      },
      "source": [
        "mygenerator = (x*x for x in range(3))\n",
        "for i in mygenerator:\n",
        "  print(i)"
      ],
      "execution_count": 3,
      "outputs": [
        {
          "output_type": "stream",
          "name": "stdout",
          "text": [
            "0\n",
            "1\n",
            "4\n"
          ]
        }
      ]
    },
    {
      "cell_type": "markdown",
      "metadata": {
        "id": "Pd1fPmUqxqr5"
      },
      "source": [
        "<h3>Yield is a keyword that is used like return, except the function will return a generator. When you call the function, the code you have written in the function body does not run. The function only returns the generator object, this is a bit tricky.\n",
        "\n",
        "Then, your code will continue from where it left off each time for uses the generator. The first time the for calls the generator object created from your function, it will run the code in your function from the beginning until it hits yield, then it'll return the first value of the loop. Then, each subsequent call will run another iteration of the loop you have written in the function and return the next value. This will continue until the generator is considered empty, which happens when the function runs without hitting yield. That can be because the loop has come to an end, or because you no longer satisfy an \"if/else\".</h3>"
      ]
    },
    {
      "cell_type": "code",
      "metadata": {
        "colab": {
          "base_uri": "https://localhost:8080/"
        },
        "id": "fmMtAppMxaTy",
        "outputId": "cad89613-a328-4df4-efb7-7f081a3fc839"
      },
      "source": [
        "def create_generator():\n",
        "  mylist = range(3)\n",
        "  for i in mylist:\n",
        "    yield i*i\n",
        "\n",
        "mygenerator = create_generator() # create a generator\n",
        "print(mygenerator) # mygenerator is an object!\n",
        "for i in mygenerator:\n",
        "     print(i)\n"
      ],
      "execution_count": 6,
      "outputs": [
        {
          "output_type": "stream",
          "name": "stdout",
          "text": [
            "<generator object create_generator at 0x7f70ccda5f50>\n",
            "0\n",
            "1\n",
            "4\n"
          ]
        }
      ]
    },
    {
      "cell_type": "markdown",
      "metadata": {
        "id": "Mwg2fURpDG67"
      },
      "source": [
        "<h3>Dunder Functions Dunder here means “Double Under (Underscores)”.</h3>"
      ]
    },
    {
      "cell_type": "code",
      "metadata": {
        "colab": {
          "base_uri": "https://localhost:8080/"
        },
        "id": "KrPodzaSyRs6",
        "outputId": "ef8757f1-6a57-4ae6-f750-7b3b849443de"
      },
      "source": [
        "# declare our own string class\n",
        "class String:\n",
        "\t\n",
        "\t# magic method to initiate object\n",
        "\tdef __init__(self, string):\n",
        "\t\tself.string = string\n",
        "\t\t\n",
        "# Driver Code\n",
        "if __name__ == '__main__':\n",
        "\t\n",
        "\t# object creation\n",
        "\tstring1 = String('Hello')\n",
        "\n",
        "\t# print object location\n",
        "\tprint(string1)\n"
      ],
      "execution_count": 7,
      "outputs": [
        {
          "output_type": "stream",
          "name": "stdout",
          "text": [
            "<__main__.String object at 0x7f70c73a97d0>\n"
          ]
        }
      ]
    },
    {
      "cell_type": "code",
      "metadata": {
        "colab": {
          "base_uri": "https://localhost:8080/"
        },
        "id": "BhErLECLDy7Z",
        "outputId": "71208d71-0e40-4044-9762-378870e023a8"
      },
      "source": [
        "# declare our own string class\n",
        "class String:\n",
        "\t\n",
        "\t# magic method to initiate object\n",
        "\tdef __init__(self, string):\n",
        "\t\tself.string = string\n",
        "\t\t\n",
        "\t# print our string object\n",
        "\tdef __repr__(self):\n",
        "\t\treturn 'Object: {}'.format(self.string)\n",
        "\n",
        "# Driver Code\n",
        "if __name__ == '__main__':\n",
        "\t\n",
        "\t# object creation\n",
        "\tstring1 = String('Hello')\n",
        "\n",
        "\t# print object location\n",
        "\tprint(string1)\n"
      ],
      "execution_count": 8,
      "outputs": [
        {
          "output_type": "stream",
          "name": "stdout",
          "text": [
            "Object: Hello\n"
          ]
        }
      ]
    },
    {
      "cell_type": "code",
      "metadata": {
        "colab": {
          "base_uri": "https://localhost:8080/",
          "height": 202
        },
        "id": "oRo6fBIoD2LD",
        "outputId": "9c84812c-0248-434d-c06e-427e943a87c4"
      },
      "source": [
        "# declare our own string class\n",
        "class String:\n",
        "\t\n",
        "\t# magic method to initiate object\n",
        "\tdef __init__(self, string):\n",
        "\t\tself.string = string\n",
        "\t\t\n",
        "\t# print our string object\n",
        "\tdef __repr__(self):\n",
        "\t\treturn 'Object: {}'.format(self.string)\n",
        "\n",
        "# Driver Code\n",
        "if __name__ == '__main__':\n",
        "\t\n",
        "\t# object creation\n",
        "\tstring1 = String('Hello')\n",
        "\t\n",
        "\t# concatenate String object and a string\n",
        "\tprint(string1 +' world')\n"
      ],
      "execution_count": 9,
      "outputs": [
        {
          "output_type": "error",
          "ename": "TypeError",
          "evalue": "ignored",
          "traceback": [
            "\u001b[0;31m---------------------------------------------------------------------------\u001b[0m",
            "\u001b[0;31mTypeError\u001b[0m                                 Traceback (most recent call last)",
            "\u001b[0;32m<ipython-input-9-f954434f8257>\u001b[0m in \u001b[0;36m<module>\u001b[0;34m()\u001b[0m\n\u001b[1;32m     17\u001b[0m \u001b[0;34m\u001b[0m\u001b[0m\n\u001b[1;32m     18\u001b[0m         \u001b[0;31m# concatenate String object and a string\u001b[0m\u001b[0;34m\u001b[0m\u001b[0;34m\u001b[0m\u001b[0;34m\u001b[0m\u001b[0m\n\u001b[0;32m---> 19\u001b[0;31m         \u001b[0mprint\u001b[0m\u001b[0;34m(\u001b[0m\u001b[0mstring1\u001b[0m \u001b[0;34m+\u001b[0m\u001b[0;34m' world'\u001b[0m\u001b[0;34m)\u001b[0m\u001b[0;34m\u001b[0m\u001b[0;34m\u001b[0m\u001b[0m\n\u001b[0m",
            "\u001b[0;31mTypeError\u001b[0m: unsupported operand type(s) for +: 'String' and 'str'"
          ]
        }
      ]
    },
    {
      "cell_type": "code",
      "metadata": {
        "colab": {
          "base_uri": "https://localhost:8080/"
        },
        "id": "d7BZFnNfD8B3",
        "outputId": "b17528bf-c956-4b16-f726-6ae8e0c68536"
      },
      "source": [
        "# declare our own string class\n",
        "class String:\n",
        "\t\n",
        "\t# magic method to initiate object\n",
        "\tdef __init__(self, string):\n",
        "\t\tself.string = string\n",
        "\t\t\n",
        "\t# print our string object\n",
        "\tdef __repr__(self):\n",
        "\t\treturn 'Object: {}'.format(self.string)\n",
        "\t\t\n",
        "\tdef __add__(self, other):\n",
        "\t\treturn self.string + other\n",
        "\n",
        "# Driver Code\n",
        "if __name__ == '__main__':\n",
        "\t\n",
        "\t# object creation\n",
        "\tstring1 = String('Hello')\n",
        "\t\n",
        "\t# concatenate String object and a string\n",
        "\tprint(string1 +' World')\n"
      ],
      "execution_count": 11,
      "outputs": [
        {
          "output_type": "stream",
          "name": "stdout",
          "text": [
            "Hello World\n"
          ]
        }
      ]
    },
    {
      "cell_type": "markdown",
      "metadata": {
        "id": "dgqPBCXuEFUq"
      },
      "source": [
        "<h3> Coroutines In Python: When a function takes time to initialize</h3>"
      ]
    },
    {
      "cell_type": "code",
      "metadata": {
        "colab": {
          "base_uri": "https://localhost:8080/"
        },
        "id": "8VcNKTZ2EBSo",
        "outputId": "dcc9dfda-6043-4228-9ed5-b622e200c146"
      },
      "source": [
        "def searcher():\n",
        "  import time\n",
        "  # Some 4 seconds time to read the task\n",
        "  model = \"say here we are reading some machine learning model which is taking some amount of time\"\n",
        "  time.sleep(4)\n",
        "\n",
        "  while True:\n",
        "    text = (yield)\n",
        "    if text in model:\n",
        "      print(\"your text is in model\")\n",
        "    else:\n",
        "      print(\"your text is not in the model\")\n",
        "search = searcher()\n",
        "print(\"search started\")\n",
        "next(search)\n",
        "print(\"Next method run\")\n",
        "search.send(\"reading\")"
      ],
      "execution_count": 12,
      "outputs": [
        {
          "output_type": "stream",
          "name": "stdout",
          "text": [
            "search started\n",
            "Next method run\n",
            "your text is in model\n"
          ]
        }
      ]
    },
    {
      "cell_type": "code",
      "metadata": {
        "colab": {
          "base_uri": "https://localhost:8080/"
        },
        "id": "UkXCgOOPIDiN",
        "outputId": "476045c2-c7bc-42eb-f91c-b9c2e49c7ecf"
      },
      "source": [
        "def seacher():\n",
        "\n",
        "    import time\n",
        "\n",
        "    # some 4 seconds time consuming task\n",
        "\n",
        "    book = []\n",
        "\n",
        "    time.sleep(4)\n",
        "\n",
        "    print(\"enter the coroutine you want to add\")\n",
        "\n",
        "    for i in range(5):\n",
        "\n",
        "        user = input()\n",
        "\n",
        "        book.append(user)\n",
        "\n",
        "\n",
        "\n",
        "\n",
        "\n",
        "    while True:\n",
        "\n",
        "        text = (yield)\n",
        "\n",
        "        if text in book :\n",
        "\n",
        "            print(\"Your text in the book.\")\n",
        "\n",
        "\n",
        "\n",
        "        else:\n",
        "\n",
        "            print(\"Text is not in the book\")\n",
        "\n",
        "\n",
        "\n",
        "search = seacher()\n",
        "\n",
        "print(\"search started\")\n",
        "\n",
        "next(search)\n",
        "\n",
        "print(\"Next method running\")\n",
        "\n",
        "print(\"Enter your name\")\n",
        "\n",
        "searching = input()\n",
        "\n",
        "search.send(searching)"
      ],
      "execution_count": 13,
      "outputs": [
        {
          "output_type": "stream",
          "name": "stdout",
          "text": [
            "search started\n",
            "enter the coroutine you want to add\n",
            "tsbinds\n",
            "tab\n",
            "ahdaj\n",
            "mam\n",
            "tab\n",
            "Next method running\n",
            "Enter your name\n",
            "h\n",
            "Text is not in the book\n"
          ]
        }
      ]
    },
    {
      "cell_type": "markdown",
      "metadata": {
        "id": "n8afFdG9Jtsq"
      },
      "source": [
        "<h3> Synchronous programming means exection of code 1 after another i.e doing things sequencially\n",
        "Asynchronous means we don't need to wait for other things to be done but we just execute the steps following and then come back to the part of code where we left"
      ]
    },
    {
      "cell_type": "code",
      "metadata": {
        "id": "uDANKQndIpqO"
      },
      "source": [
        "import asyncio\n",
        "# create a coroutine first\n",
        "# create a function with async keyword which creates a wrapper around a function and when the function is called\n",
        "# it will return a coroutined object. This coroutine object is just like a function and it can be executed. To execute a \n",
        "# coroutine we have to do is await\n",
        "async def main():\n",
        "  task = asyncio.create_task(foo())\n",
        "  print(\"A\")\n",
        "  await asyncio.sleep(1)\n",
        "  print(\"B\")\n",
        "  return_value = await task\n",
        "  print(f\"Return value was {return_value}\")\n",
        "# asyncio.run(main())\n",
        "async def foo():\n",
        "  print(\"1\")\n",
        "  await asyncio.sleep(2)\n",
        "  print(\"2\")\n",
        "  return 10\n",
        "\n",
        "# asyncio.run(main())"
      ],
      "execution_count": 25,
      "outputs": []
    },
    {
      "cell_type": "code",
      "metadata": {
        "id": "Mfiz9TfvWc1d"
      },
      "source": [
        ""
      ],
      "execution_count": null,
      "outputs": []
    }
  ]
}